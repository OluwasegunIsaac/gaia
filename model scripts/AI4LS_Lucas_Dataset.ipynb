{
  "cells": [
    {
      "cell_type": "code",
      "execution_count": 86,
      "metadata": {
        "colab": {
          "base_uri": "https://localhost:8080/"
        },
        "id": "MmrznqnXyCt8",
        "outputId": "9356dc19-afdf-4ad1-fae1-eabf684854ff"
      },
      "outputs": [
        {
          "output_type": "stream",
          "name": "stdout",
          "text": [
            "Requirement already satisfied: catboost in /usr/local/lib/python3.10/dist-packages (1.2.2)\n",
            "Requirement already satisfied: graphviz in /usr/local/lib/python3.10/dist-packages (from catboost) (0.20.1)\n",
            "Requirement already satisfied: matplotlib in /usr/local/lib/python3.10/dist-packages (from catboost) (3.7.1)\n",
            "Requirement already satisfied: numpy>=1.16.0 in /usr/local/lib/python3.10/dist-packages (from catboost) (1.23.5)\n",
            "Requirement already satisfied: pandas>=0.24 in /usr/local/lib/python3.10/dist-packages (from catboost) (1.5.3)\n",
            "Requirement already satisfied: scipy in /usr/local/lib/python3.10/dist-packages (from catboost) (1.11.4)\n",
            "Requirement already satisfied: plotly in /usr/local/lib/python3.10/dist-packages (from catboost) (5.15.0)\n",
            "Requirement already satisfied: six in /usr/local/lib/python3.10/dist-packages (from catboost) (1.16.0)\n",
            "Requirement already satisfied: python-dateutil>=2.8.1 in /usr/local/lib/python3.10/dist-packages (from pandas>=0.24->catboost) (2.8.2)\n",
            "Requirement already satisfied: pytz>=2020.1 in /usr/local/lib/python3.10/dist-packages (from pandas>=0.24->catboost) (2023.3.post1)\n",
            "Requirement already satisfied: contourpy>=1.0.1 in /usr/local/lib/python3.10/dist-packages (from matplotlib->catboost) (1.2.0)\n",
            "Requirement already satisfied: cycler>=0.10 in /usr/local/lib/python3.10/dist-packages (from matplotlib->catboost) (0.12.1)\n",
            "Requirement already satisfied: fonttools>=4.22.0 in /usr/local/lib/python3.10/dist-packages (from matplotlib->catboost) (4.46.0)\n",
            "Requirement already satisfied: kiwisolver>=1.0.1 in /usr/local/lib/python3.10/dist-packages (from matplotlib->catboost) (1.4.5)\n",
            "Requirement already satisfied: packaging>=20.0 in /usr/local/lib/python3.10/dist-packages (from matplotlib->catboost) (23.2)\n",
            "Requirement already satisfied: pillow>=6.2.0 in /usr/local/lib/python3.10/dist-packages (from matplotlib->catboost) (9.4.0)\n",
            "Requirement already satisfied: pyparsing>=2.3.1 in /usr/local/lib/python3.10/dist-packages (from matplotlib->catboost) (3.1.1)\n",
            "Requirement already satisfied: tenacity>=6.2.0 in /usr/local/lib/python3.10/dist-packages (from plotly->catboost) (8.2.3)\n"
          ]
        }
      ],
      "source": [
        "# install Catboost\n",
        "! pip install catboost"
      ]
    },
    {
      "cell_type": "code",
      "execution_count": 87,
      "metadata": {
        "id": "9Ft4o3lTWDIy"
      },
      "outputs": [],
      "source": [
        "# Load libraries\n",
        "from sklearn.metrics import f1_score\n",
        "from sklearn.ensemble import RandomForestClassifier, GradientBoostingClassifier, RandomForestRegressor, GradientBoostingRegressor\n",
        "from sklearn.preprocessing import LabelEncoder\n",
        "from sklearn.metrics import mean_absolute_error\n",
        "import pandas as pd"
      ]
    },
    {
      "cell_type": "markdown",
      "metadata": {
        "id": "yJGh9dyoWHvS"
      },
      "source": [
        "# **Data Cleaning/Preprocessing**"
      ]
    },
    {
      "cell_type": "code",
      "execution_count": 88,
      "metadata": {
        "id": "z1k-js0_EX1C",
        "colab": {
          "base_uri": "https://localhost:8080/"
        },
        "outputId": "4969789d-1903-4c14-ff1a-9daecb73ca50"
      },
      "outputs": [
        {
          "output_type": "stream",
          "name": "stderr",
          "text": [
            "<ipython-input-88-612a549d6545>:2: DtypeWarning: Columns (1,15,17) have mixed types. Specify dtype option on import or set low_memory=False.\n",
            "  df_2018=pd.read_csv('/content/drive/MyDrive/cleaned_2018_bk (2).csv')\n"
          ]
        }
      ],
      "source": [
        "# Load dataset and drop unneeded columns\n",
        "df_2018=pd.read_csv('/content/drive/MyDrive/cleaned_2018_bk (2).csv')\n",
        "df_2018.drop(['Unnamed: 0', \t'Sample',\t'Richness',\t'OTU_per_sample',\t'serial2', 'Serial'], inplace=True, axis=1)\n",
        "df_2018.drop(['LONG', 'LAT', 'Point_ID'], axis=1, inplace=True)\n",
        "df_2018.dropna(subset=['N'], inplace=True)\n",
        "df_2018.fillna(0, inplace=True)"
      ]
    },
    {
      "cell_type": "code",
      "execution_count": 89,
      "metadata": {
        "id": "Fnb-riCyF7Wp"
      },
      "outputs": [],
      "source": [
        "# Fill < LOD values with 0\n",
        "for i in ['P', 'N', 'K', 'CaCO3', 'OC']:\n",
        "  df_2018[i].replace('< LOD', 0, inplace=True)\n",
        "  df_2018[i].replace('<0.0', 0, inplace=True)\n",
        "  df_2018[i].replace('<  LOD', 0, inplace=True)\n",
        "  df_2018[i]=df_2018[i].astype('float64')"
      ]
    },
    {
      "cell_type": "code",
      "execution_count": 90,
      "metadata": {
        "id": "nJbVvYWoW1fb"
      },
      "outputs": [],
      "source": [
        "# Label encode the variables\n",
        "cat= ['Country', 'Land Cover', 'Depth',  'Land Description' ]\n",
        "import pickle\n",
        "for i in cat:\n",
        "  le= LabelEncoder()\n",
        "  name= i +  '.pkl'\n",
        "  output = open(name, 'wb')\n",
        "  df_2018[i]=le.fit_transform(df_2018[i])\n",
        "  pickle.dump(le, output)\n",
        "  output.close()\n"
      ]
    },
    {
      "cell_type": "markdown",
      "metadata": {
        "id": "gIHH7SW8d5pT"
      },
      "source": [
        "# **Managed VS Unmanaged LUCAS 2018**"
      ]
    },
    {
      "cell_type": "code",
      "execution_count": 91,
      "metadata": {
        "id": "9GpLhy4wLStP"
      },
      "outputs": [],
      "source": [
        "# Classification of Land Use to managed and Unmanaged\n",
        "dict_={'Forestry': 'Managed',\n",
        " 'Agriculture (excluding fallow land and kitchen gardens)': 'Managed',\n",
        " 'Semi-natural and natural areas not in use': 'Unmanaged',\n",
        " 'Construction': 'Managed',\n",
        " 'Residential': 'Managed',\n",
        " 'Road transport': 'Managed',\n",
        " 'Other abandoned areas': 'Unmanaged',\n",
        " 'Energy production': 'Managed',\n",
        " 'Electricity, gas and thermal power distribution': 'Managed',\n",
        " 'Fallow land': 'Unmanaged',\n",
        " 'Amenities, museum, leisure (e.g. parks, botanical gardens)': 'Managed',\n",
        " 'Kitchen gardens': 'Managed',\n",
        " 'Railway transport': 'Managed',\n",
        " 'Financial, professional and information services': 'Managed',\n",
        " 'Protection infrastructures': 'Managed',\n",
        " 'Commerce': 'Managed',\n",
        " 'Mining and quarrying': 'Managed',\n",
        " 'Sport': 'Managed',\n",
        " 'Community services': 'Managed',\n",
        " 'Water supply and treatment': 'Managed',\n",
        " 'Other primary production': 'Unmanaged',\n",
        " 'Abandoned residential areas': 'Unmanaged',\n",
        " 'Logistics and storage': 'Managed',\n",
        " 'Abandoned industrial areas': 'Unmanaged',\n",
        " 'Water transport': 'Unmanaged',\n",
        " 'Abandoned transport areas': 'Unmanaged'}\n",
        "\n",
        "# Label encode the land use classifications {'Managed':0, 'Unmanaged':1}\n",
        "df_2018_manage_class=df_2018.copy()\n",
        "df_2018_manage_class['Land Use']=df_2018_manage_class['Land Use'].map(dict_)\n",
        "df_2018_manage_class['Land Use']=df_2018_manage_class['Land Use'].map({'Managed':0, 'Unmanaged':1})"
      ]
    },
    {
      "cell_type": "code",
      "execution_count": 92,
      "metadata": {
        "id": "BZ-UjHeaQBEd"
      },
      "outputs": [],
      "source": [
        "# Split to dependent and independent variables\n",
        "X= df_2018_manage_class.drop(['Land Use', 'NUTS_1', 'NUTS_2', 'NUTS_3', 'elev'], axis=1)\n",
        "Y=df_2018_manage_class['Land Use']\n",
        "# split to train and test\n",
        "from sklearn.model_selection import train_test_split\n",
        "X_train, X_test, y_train, y_test = train_test_split(X, Y, test_size=0.2, random_state=42)"
      ]
    },
    {
      "cell_type": "code",
      "execution_count": 9,
      "metadata": {
        "colab": {
          "base_uri": "https://localhost:8080/"
        },
        "id": "iq9EkE93QBBC",
        "outputId": "8d3daedf-2375-4960-893f-3cd2ce57eb2f"
      },
      "outputs": [
        {
          "output_type": "stream",
          "name": "stdout",
          "text": [
            "Random 0.6173541963015647\n",
            "Gb 0.6173541963015647\n",
            "Xgb 0.6352941176470589\n",
            "cat 0.6476964769647696\n",
            "dt 0.525564803804994\n"
          ]
        }
      ],
      "source": [
        "# Build classifier\n",
        "rf=RandomForestClassifier(random_state=20)\n",
        "rf.fit(X_train, y_train)\n",
        "yhat=rf.predict(X_test)\n",
        "print('Random', f1_score(y_test, yhat))\n",
        "\n",
        "gb=GradientBoostingClassifier()\n",
        "gb.fit(X_train, y_train)\n",
        "yhat=rf.predict(X_test)\n",
        "print('Gb', f1_score(y_test, yhat) )\n",
        "\n",
        "import xgboost as xg\n",
        "xgb_r = xg.XGBClassifier()\n",
        "xgb_r.fit(X_train, y_train)\n",
        "yhat=xgb_r.predict(X_test)\n",
        "print('Xgb', f1_score(y_test, yhat) )\n",
        "\n",
        "from catboost import CatBoostClassifier\n",
        "ct= CatBoostClassifier(verbose=0)\n",
        "ct.fit(X_train, y_train)\n",
        "yhat=ct.predict(X_test)\n",
        "print ('cat', f1_score(y_test, yhat) )\n",
        "\n",
        "from sklearn.tree import DecisionTreeClassifier\n",
        "dt=DecisionTreeClassifier()\n",
        "dt.fit(X_train, y_train)\n",
        "yhat=dt.predict(X_test)\n",
        "print('dt', f1_score(y_test, yhat) )"
      ]
    },
    {
      "cell_type": "code",
      "source": [
        "# Save best classifier(catboost) for deployment\n",
        "from catboost import CatBoostClassifier\n",
        "ct= CatBoostClassifier(verbose=0)\n",
        "ct.fit(X, Y)\n",
        "ct.save_model('Managed_Unmanged')"
      ],
      "metadata": {
        "id": "87l6Ny2kvJM4"
      },
      "execution_count": null,
      "outputs": []
    },
    {
      "cell_type": "markdown",
      "metadata": {
        "id": "xb2CGEK9f26U"
      },
      "source": [
        "# **Environmentally Impacted VS Non_Environmentally Impacted LUCAS 2018**"
      ]
    },
    {
      "cell_type": "code",
      "execution_count": 10,
      "metadata": {
        "id": "4heW6hRxejKv"
      },
      "outputs": [],
      "source": [
        "# Classification of Land Use to environmentally impacted and non environmentally impacted\n",
        "dict_={'Forestry': 'Environmentally Impacted',\n",
        " 'Agriculture (excluding fallow land and kitchen gardens)': 'Environmentally Impacted',\n",
        " 'Semi-natural and natural areas not in use': 'Non Environmentally Impacted',\n",
        " 'Construction': 'Environmentally Impacted',\n",
        " 'Residential': 'Non Environmentally Impacted',\n",
        " 'Road transport': 'Environmentally Impacted',\n",
        " 'Other abandoned areas': 'Environmentally Impacted',\n",
        " 'Energy production': 'Environmentally Impacted',\n",
        " 'Electricity, gas and thermal power distribution': 'Environmentally Impacted',\n",
        " 'Fallow land': 'Non Environmentally Impacted',\n",
        " 'Amenities, museum, leisure (e.g. parks, botanical gardens)': 'Non Environmentally Impacted',\n",
        " 'Kitchen gardens': 'Non Environmentally Impacted',\n",
        " 'Railway transport': 'Environmentally Impacted',\n",
        " 'Financial, professional and information services': 'Non Environmentally Impacted',\n",
        " 'Protection infrastructures': 'Non Environmentally Impacted',\n",
        " 'Commerce': 'Non Environmentally Impacted',\n",
        " 'Mining and quarrying': 'Environmentally Impacted',\n",
        " 'Sport': 'Non Environmentally Impacted',\n",
        " 'Community services': 'Non Environmentally Impacted',\n",
        " 'Water supply and treatment': 'Environmentally Impacted',\n",
        " 'Other primary production': 'Non Environmentally Impacted',\n",
        " 'Abandoned residential areas': 'Environmentally Impacted',\n",
        " 'Logistics and storage': 'Non Environmentally Impacted',\n",
        " 'Abandoned industrial areas': 'Environmentally Impacted',\n",
        " 'Water transport': 'Non Environmentally Impacted',\n",
        " 'Abandoned transport areas': 'Environmentally Impacted'}\n",
        "\n",
        "# label encode land use Environmentally Impacted':1, 'Non Environmentally Impacted':0\n",
        "df_2018_Env_impacted_class=df_2018.copy()\n",
        "df_2018_Env_impacted_class['Land Use']=df_2018_Env_impacted_class['Land Use'].map(dict_)\n",
        "df_2018_Env_impacted_class['Land Use']=df_2018_Env_impacted_class['Land Use'].map({'Environmentally Impacted':1, 'Non Environmentally Impacted':0})"
      ]
    },
    {
      "cell_type": "code",
      "execution_count": 11,
      "metadata": {
        "id": "5AT6nHf_g8uA"
      },
      "outputs": [],
      "source": [
        "# Split to dependent and independent variables\n",
        "X= df_2018_Env_impacted_class.drop(['Land Use','NUTS_1', 'NUTS_2', 'NUTS_3', 'elev'], axis=1)\n",
        "Y=df_2018_Env_impacted_class['Land Use']\n",
        "# Split to train and test\n",
        "from sklearn.model_selection import train_test_split\n",
        "X_train, X_test, y_train, y_test = train_test_split(X, Y, test_size=0.2, random_state=42)\n"
      ]
    },
    {
      "cell_type": "code",
      "execution_count": null,
      "metadata": {
        "colab": {
          "base_uri": "https://localhost:8080/"
        },
        "id": "jxvgBVBIhQgG",
        "outputId": "195daa3d-5dd0-4418-bc63-d04b5d83db2c"
      },
      "outputs": [
        {
          "output_type": "stream",
          "name": "stdout",
          "text": [
            "Random 0.9564838990426457\n",
            "Gb 0.9564838990426457\n",
            "Xgb 0.9571574791636205\n",
            "cat 0.9587042171311834\n",
            "dt 0.9355174981384959\n"
          ]
        }
      ],
      "source": [
        "# Build Classifier\n",
        "rf=RandomForestClassifier(random_state=20)\n",
        "rf.fit(X_train, y_train)\n",
        "yhat=rf.predict(X_test)\n",
        "print('Random', f1_score(y_test, yhat))\n",
        "\n",
        "gb=GradientBoostingClassifier()\n",
        "gb.fit(X_train, y_train)\n",
        "yhat=rf.predict(X_test)\n",
        "print('Gb', f1_score(y_test, yhat) )\n",
        "\n",
        "import xgboost as xg\n",
        "xgb_r = xg.XGBClassifier()\n",
        "xgb_r.fit(X_train, y_train)\n",
        "yhat=xgb_r.predict(X_test)\n",
        "print('Xgb', f1_score(y_test, yhat) )\n",
        "\n",
        "from catboost import CatBoostClassifier\n",
        "ct= CatBoostClassifier(verbose=0)\n",
        "ct.fit(X_train, y_train)\n",
        "yhat=ct.predict(X_test)\n",
        "print ('cat', f1_score(y_test, yhat) )\n",
        "\n",
        "from sklearn.tree import DecisionTreeClassifier\n",
        "dt=DecisionTreeClassifier()\n",
        "dt.fit(X_train, y_train)\n",
        "yhat=dt.predict(X_test)\n",
        "print('dt', f1_score(y_test, yhat) )"
      ]
    },
    {
      "cell_type": "code",
      "source": [
        " # Save best Model for deployment\n",
        "ct= CatBoostClassifier(verbose=0)\n",
        "ct.fit(X, Y)\n",
        "ct.save_model('Environmental impact')"
      ],
      "metadata": {
        "id": "aNly9336vnYd"
      },
      "execution_count": null,
      "outputs": []
    },
    {
      "cell_type": "markdown",
      "metadata": {
        "id": "vmngv3pNiL1E"
      },
      "source": [
        "# **Fungi Diversity Prediction**"
      ]
    },
    {
      "cell_type": "code",
      "execution_count": 93,
      "metadata": {
        "colab": {
          "base_uri": "https://localhost:8080/"
        },
        "id": "ya__HZPVZNoY",
        "outputId": "83069f85-f8b6-42a3-a18d-6fca7d67946c"
      },
      "outputs": [
        {
          "output_type": "stream",
          "name": "stderr",
          "text": [
            "<ipython-input-93-6b804e23d425>:2: DtypeWarning: Columns (1,15,17) have mixed types. Specify dtype option on import or set low_memory=False.\n",
            "  df_=pd.read_csv('/content/drive/MyDrive/cleaned_2018_bk (2).csv')\n"
          ]
        }
      ],
      "source": [
        "# Load fungi dataset\n",
        "df_=pd.read_csv('/content/drive/MyDrive/cleaned_2018_bk (2).csv')\n",
        "df_.dropna(subset=['N'], inplace=True)\n",
        "df_=df_.loc[:895]\n",
        "df_=df_[['Richness', 'OTU_per_sample' ]]\n",
        "df_2018_=df_2018.loc[:895]\n",
        "df_2018_fungi=pd.concat([df_2018_, df_], axis=1)"
      ]
    },
    {
      "cell_type": "markdown",
      "metadata": {
        "id": "MN_6H5EN8PbZ"
      },
      "source": [
        "**Fungi Richness**"
      ]
    },
    {
      "cell_type": "code",
      "execution_count": 95,
      "metadata": {
        "id": "rgegiP2KiVkS"
      },
      "outputs": [],
      "source": [
        "# Split to dependent and independent\n",
        "X=df_2018_fungi.drop(['Richness', 'OTU_per_sample', 'Land Use', 'NUTS_1', 'NUTS_2', 'NUTS_3', 'elev'], axis=1)\n",
        "Y=df_2018_fungi['Richness']\n",
        "# Split to train and test\n",
        "from sklearn.model_selection import train_test_split\n",
        "X_train, X_test, y_train, y_test = train_test_split(X, Y, test_size=0.2, random_state=42)\n"
      ]
    },
    {
      "cell_type": "code",
      "execution_count": null,
      "metadata": {
        "colab": {
          "base_uri": "https://localhost:8080/"
        },
        "id": "bgInpkhBiVhl",
        "outputId": "e305578a-546e-49f9-eaf9-7449e063aa71"
      },
      "outputs": [
        {
          "output_type": "stream",
          "name": "stdout",
          "text": [
            "Random 780.7918644067795\n",
            "Gb 810.0661644107869\n",
            "Xgb 844.6306142860886\n",
            "cat 824.8625779444471\n",
            "dt 1026.3446327683616\n"
          ]
        }
      ],
      "source": [
        "# Build regressor model for fungi Richness prediction\n",
        "rf=RandomForestRegressor(random_state=20)\n",
        "rf.fit(X_train, y_train)\n",
        "yhat=rf.predict(X_test)\n",
        "print('Random', mean_absolute_error(y_test, yhat))\n",
        "\n",
        "gb=GradientBoostingRegressor()\n",
        "gb.fit(X_train, y_train)\n",
        "yhat=rf.predict(X_test)\n",
        "print('Gb', mean_absolute_error(y_test, yhat) )\n",
        "\n",
        "import xgboost as xg\n",
        "xgb_r = xg.XGBRegressor()\n",
        "xgb_r.fit(X_train, y_train)\n",
        "yhat=xgb_r.predict(X_test)\n",
        "print('Xgb', mean_absolute_error(y_test, yhat) )\n",
        "\n",
        "from catboost import CatBoostRegressor\n",
        "ct= CatBoostRegressor(verbose=0)\n",
        "ct.fit(X_train, y_train)\n",
        "yhat=ct.predict(X_test)\n",
        "print ('cat', mean_absolute_error(y_test, yhat) )\n",
        "\n",
        "from sklearn.tree import DecisionTreeRegressor\n",
        "dt=DecisionTreeRegressor()\n",
        "dt.fit(X_train, y_train)\n",
        "yhat=dt.predict(X_test)\n",
        "print('dt', mean_absolute_error(y_test, yhat) )"
      ]
    },
    {
      "cell_type": "code",
      "source": [
        "# save best model\n",
        "rf=RandomForestRegressor(random_state=20)\n",
        "rf.fit(X, Y)\n",
        "output = open('fungi_rich.pkl', 'wb')\n",
        "pickle.dump(rf, output)\n",
        "output.close()"
      ],
      "metadata": {
        "id": "6gip_y0galMs"
      },
      "execution_count": null,
      "outputs": []
    },
    {
      "cell_type": "markdown",
      "metadata": {
        "id": "m644nxUy8lX0"
      },
      "source": [
        "**Fungi Abundance**"
      ]
    },
    {
      "cell_type": "code",
      "execution_count": 16,
      "metadata": {
        "id": "hE1dPk3QiVfR"
      },
      "outputs": [],
      "source": [
        "# Split to dependent and independent\n",
        "X=df_2018_fungi.drop(['Richness', 'OTU_per_sample', 'Land Use', 'NUTS_1', 'NUTS_2', 'NUTS_3', 'elev'], axis=1)\n",
        "Y=df_2018_fungi['OTU_per_sample']\n",
        "# Split to train and test\n",
        "from sklearn.model_selection import train_test_split\n",
        "X_train, X_test, y_train, y_test = train_test_split(X, Y, test_size=0.2, random_state=42)"
      ]
    },
    {
      "cell_type": "code",
      "execution_count": null,
      "metadata": {
        "colab": {
          "base_uri": "https://localhost:8080/"
        },
        "id": "iVL6qmdX89lF",
        "outputId": "a1e8d1d3-a584-445c-c44b-dc441b6e4a2e"
      },
      "outputs": [
        {
          "output_type": "stream",
          "name": "stdout",
          "text": [
            "Random 14.106949152542375\n",
            "Gb 13.774721952358096\n",
            "Xgb 15.849303504167978\n",
            "cat 14.42428251523237\n",
            "dt 18.423728813559322\n"
          ]
        }
      ],
      "source": [
        "# Build regressor model for fungi abundance prediction\n",
        "rf=RandomForestRegressor(random_state=20)\n",
        "rf.fit(X_train, y_train)\n",
        "yhat=rf.predict(X_test)\n",
        "print('Random', mean_absolute_error(y_test, yhat))\n",
        "\n",
        "gb=GradientBoostingRegressor()\n",
        "gb.fit(X_train, y_train)\n",
        "yhat=rf.predict(X_test)\n",
        "print('Gb', mean_absolute_error(y_test, yhat) )\n",
        "\n",
        "import xgboost as xg\n",
        "xgb_r = xg.XGBRegressor()\n",
        "xgb_r.fit(X_train, y_train)\n",
        "yhat=xgb_r.predict(X_test)\n",
        "print('Xgb', mean_absolute_error(y_test, yhat) )\n",
        "\n",
        "from catboost import CatBoostRegressor\n",
        "ct= CatBoostRegressor(verbose=0)\n",
        "ct.fit(X_train, y_train)\n",
        "yhat=ct.predict(X_test)\n",
        "print ('cat', mean_absolute_error(y_test, yhat) )\n",
        "\n",
        "from sklearn.tree import DecisionTreeRegressor\n",
        "dt=DecisionTreeRegressor()\n",
        "dt.fit(X_train, y_train)\n",
        "yhat=dt.predict(X_test)\n",
        "print('dt', mean_absolute_error(y_test, yhat) )"
      ]
    },
    {
      "cell_type": "code",
      "source": [
        "#Save best model\n",
        "rf=RandomForestRegressor(random_state=20)\n",
        "rf.fit(X, Y)\n",
        "output = open('fungi_abd.pkl', 'wb')\n",
        "pickle.dump(rf, output)\n",
        "output.close()"
      ],
      "metadata": {
        "id": "OAaoER_Bbckm"
      },
      "execution_count": null,
      "outputs": []
    },
    {
      "cell_type": "markdown",
      "metadata": {
        "id": "FUoqshL-9ZuM"
      },
      "source": [
        "# **Bacteria Diversity Prediction**"
      ]
    },
    {
      "cell_type": "code",
      "source": [
        "# Merging and cleaning data for bacteria richness and abundance prediction\n",
        "df__=df_2018_fungi.drop_duplicates('elev')\n",
        "df2=pd.read_csv('/content/drive/MyDrive/bac_OTU.csv')\n",
        "df1=pd.read_csv('/content/drive/MyDrive/PRJNA952168_metadata.csv')[['Run', 'elev']]\n",
        "df3=df1.merge(df2, left_on='Run', right_on='SRR_code', how='inner').drop_duplicates(subset=['elev'])\n",
        "df_bact=df3.merge(df__, left_on='elev', right_on='elev', how='inner').drop_duplicates(subset=['Run'])"
      ],
      "metadata": {
        "id": "3cb5i2tX06h_"
      },
      "execution_count": 71,
      "outputs": []
    },
    {
      "cell_type": "markdown",
      "source": [
        "**Bacteria Richness**"
      ],
      "metadata": {
        "id": "fJP33UsysHxD"
      }
    },
    {
      "cell_type": "code",
      "source": [
        "# Split to dependent and independent\n",
        "X=df_bact.drop(['Run', 'Land Use', 'NUTS_1', 'NUTS_2', 'NUTS_3', 'elev', 'SRR_code', 'bacOTUs_per_sample',\\\n",
        "               'bac_abundance', 'Richness', 'OTU_per_sample' ], axis=1)\n",
        "Y=df_bact['bacOTUs_per_sample']\n",
        "# Split to train and test\n",
        "from sklearn.model_selection import train_test_split\n",
        "X_train, X_test, y_train, y_test = train_test_split(X, Y, test_size=0.2, random_state=42)"
      ],
      "metadata": {
        "id": "sGR6Zj83sAlA"
      },
      "execution_count": null,
      "outputs": []
    },
    {
      "cell_type": "code",
      "source": [
        "# Build regressor model for bacteria richness prediction\n",
        "rf=RandomForestRegressor(random_state=20)\n",
        "rf.fit(X_train, y_train)\n",
        "yhat=rf.predict(X_test)\n",
        "print('Random', mean_absolute_error(y_test, yhat))\n",
        "\n",
        "rf=GradientBoostingRegressor()\n",
        "rf.fit(X_train, y_train)\n",
        "yhat=rf.predict(X_test)\n",
        "print('Gb', mean_absolute_error(y_test, yhat) )\n",
        "\n",
        "import xgboost as xg\n",
        "xgb_r = xg.XGBRegressor()\n",
        "xgb_r.fit(X_train, y_train)\n",
        "yhat=xgb_r.predict(X_test)\n",
        "print('Xgb', mean_absolute_error(y_test, yhat) )\n",
        "\n",
        "from catboost import CatBoostRegressor\n",
        "ct= CatBoostRegressor(verbose=0)\n",
        "ct.fit(X_train, y_train)\n",
        "yhat=ct.predict(X_test)\n",
        "print ('cat', mean_absolute_error(y_test, yhat) )\n",
        "\n",
        "from sklearn.tree import DecisionTreeRegressor\n",
        "dt=DecisionTreeRegressor()\n",
        "dt.fit(X_train, y_train)\n",
        "yhat=dt.predict(X_test)\n",
        "print('dt', mean_absolute_error(y_test, yhat) )"
      ],
      "metadata": {
        "colab": {
          "base_uri": "https://localhost:8080/"
        },
        "id": "vCrtlu_9tcET",
        "outputId": "9b578a96-e9d2-483f-f2de-2c05d223d300"
      },
      "execution_count": null,
      "outputs": [
        {
          "output_type": "stream",
          "name": "stdout",
          "text": [
            "Random 206.12398148148148\n",
            "Gb 208.41924797422078\n",
            "Xgb 229.82217244748716\n",
            "cat 212.7947893942983\n",
            "dt 291.93518518518516\n"
          ]
        }
      ]
    },
    {
      "cell_type": "code",
      "source": [
        "#save best model\n",
        "rf=GradientBoostingRegressor()\n",
        "rf.fit(X, Y)\n",
        "output = open('bact_rich.pkl', 'wb')\n",
        "pickle.dump(rf, output)\n",
        "output.close()"
      ],
      "metadata": {
        "id": "N_UwB3zcutUR"
      },
      "execution_count": null,
      "outputs": []
    },
    {
      "cell_type": "markdown",
      "source": [
        "**Bacteria Abundanc**e"
      ],
      "metadata": {
        "id": "f0Y_6IV7t6TU"
      }
    },
    {
      "cell_type": "code",
      "source": [
        "# Split to dependent and target features\n",
        "X=df_bact.drop(['Run', 'Land Use', 'NUTS_1', 'NUTS_2', 'NUTS_3', 'elev', 'SRR_code', 'bacOTUs_per_sample',\\\n",
        "               'bac_abundance', 'Richness', 'OTU_per_sample' ], axis=1)\n",
        "Y=df_bact['bac_abundance']\n",
        "# split to train and test\n",
        "from sklearn.model_selection import train_test_split\n",
        "X_train, X_test, y_train, y_test = train_test_split(X, Y, test_size=0.2, random_state=42)"
      ],
      "metadata": {
        "id": "1JNasmPSuBLu"
      },
      "execution_count": null,
      "outputs": []
    },
    {
      "cell_type": "code",
      "source": [
        "# Build regressor model for bacteria abundance prediction\n",
        "rf=RandomForestRegressor(random_state=20)\n",
        "rf.fit(X_train, y_train)\n",
        "yhat=rf.predict(X_test)\n",
        "print('Random', mean_absolute_error(y_test, yhat))\n",
        "\n",
        "rf=GradientBoostingRegressor()\n",
        "rf.fit(X_train, y_train)\n",
        "yhat=rf.predict(X_test)\n",
        "print('Gb', mean_absolute_error(y_test, yhat) )\n",
        "\n",
        "import xgboost as xg\n",
        "xgb_r = xg.XGBRegressor()\n",
        "xgb_r.fit(X_train, y_train)\n",
        "yhat=xgb_r.predict(X_test)\n",
        "print('Xgb', mean_absolute_error(y_test, yhat) )\n",
        "\n",
        "from catboost import CatBoostRegressor\n",
        "ct= CatBoostRegressor(verbose=0)\n",
        "ct.fit(X_train, y_train)\n",
        "yhat=ct.predict(X_test)\n",
        "print ('cat', mean_absolute_error(y_test, yhat) )\n",
        "\n",
        "from sklearn.tree import DecisionTreeRegressor\n",
        "dt=DecisionTreeRegressor()\n",
        "dt.fit(X_train, y_train)\n",
        "yhat=dt.predict(X_test)\n",
        "print('dt', mean_absolute_error(y_test, yhat) )"
      ],
      "metadata": {
        "colab": {
          "base_uri": "https://localhost:8080/"
        },
        "id": "iTaAohsTt5JV",
        "outputId": "a936ed2f-5dd7-4f94-c1d5-ebb86e1ad2af"
      },
      "execution_count": null,
      "outputs": [
        {
          "output_type": "stream",
          "name": "stdout",
          "text": [
            "Random 9551.016203703704\n",
            "Gb 9394.09692845902\n",
            "Xgb 11197.868408203125\n",
            "cat 9674.459766380054\n",
            "dt 15350.444444444445\n"
          ]
        }
      ]
    },
    {
      "cell_type": "code",
      "source": [
        "# Save best model\n",
        "gb=GradientBoostingRegressor()\n",
        "gb.fit(X, Y)\n",
        "output = open('bact_abd.pkl', 'wb')\n",
        "pickle.dump(gb, output)\n",
        "output.close()"
      ],
      "metadata": {
        "id": "9gSej8y_ud8o"
      },
      "execution_count": null,
      "outputs": []
    },
    {
      "cell_type": "markdown",
      "metadata": {
        "id": "RXeE8n3CQ1ty"
      },
      "source": [
        "# **Microbial Diversity in Predicting Carbon Content**"
      ]
    },
    {
      "cell_type": "code",
      "source": [
        "# Encode Land Use\n",
        "cat= ['Land Use' ]\n",
        "\n",
        "for i in cat:\n",
        "  le= LabelEncoder()\n",
        "  df_bact[i]=le.fit_transform(df_bact[i])"
      ],
      "metadata": {
        "id": "j_UHGZMS3htl"
      },
      "execution_count": null,
      "outputs": []
    },
    {
      "cell_type": "code",
      "source": [
        "# Split to dependent and target features\n",
        "X=df_bact.drop(['Run', 'Land Use', 'NUTS_1', 'NUTS_2', 'NUTS_3', 'elev', 'SRR_code', 'OC' ], axis=1)\n",
        "Y=df_bact['OC']\n",
        "X=X.rename(columns={'Richness': 'Fungi_abundance', 'OTU_per_sample': 'FungiOTU_per_sample'})"
      ],
      "metadata": {
        "id": "nbIMEp5b3ho_"
      },
      "execution_count": null,
      "outputs": []
    },
    {
      "cell_type": "code",
      "source": [
        "# With Microbial Diversity Features\n",
        "from sklearn.model_selection import train_test_split\n",
        "X_train, X_test, y_train, y_test = train_test_split(X, Y, test_size=0.2, random_state=42)\n",
        "\n",
        "from sklearn.preprocessing import StandardScaler\n",
        "sc=StandardScaler()\n",
        "X_train=sc.fit_transform(X_train)\n",
        "X_test=sc.transform(X_test)\n",
        "\n",
        "\n",
        "rf=RandomForestRegressor(random_state=20)\n",
        "rf.fit(X_train, y_train)\n",
        "yhat=rf.predict(X_test)\n",
        "print('Random', mean_absolute_error(y_test, yhat))\n",
        "\n",
        "gb=GradientBoostingRegressor()\n",
        "gb.fit(X_train, y_train)\n",
        "yhat=rf.predict(X_test)\n",
        "print('Gb', mean_absolute_error(y_test, yhat) )\n",
        "\n",
        "import xgboost as xg\n",
        "xgb_r = xg.XGBRegressor()\n",
        "xgb_r.fit(X_train, y_train)\n",
        "yhat=xgb_r.predict(X_test)\n",
        "print('Xgb', mean_absolute_error(y_test, yhat) )\n",
        "\n",
        "from catboost import CatBoostRegressor\n",
        "ct= CatBoostRegressor(verbose=0)\n",
        "ct.fit(X_train, y_train)\n",
        "yhat=ct.predict(X_test)\n",
        "print ('cat', mean_absolute_error(y_test, yhat) )\n",
        "\n",
        "from sklearn.tree import DecisionTreeRegressor\n",
        "dt=DecisionTreeRegressor()\n",
        "dt.fit(X_train, y_train)\n",
        "yhat=dt.predict(X_test)\n",
        "print('dt', mean_absolute_error(y_test, yhat) )"
      ],
      "metadata": {
        "colab": {
          "base_uri": "https://localhost:8080/"
        },
        "id": "LstZhLtP3hh6",
        "outputId": "7178023b-cbb7-4730-ae7f-a4cf39ba130b"
      },
      "execution_count": null,
      "outputs": [
        {
          "output_type": "stream",
          "name": "stdout",
          "text": [
            "Random 7.118499999999996\n",
            "Gb 7.118499999999996\n",
            "Xgb 8.114407950860482\n",
            "cat 7.2704484609951745\n",
            "dt 10.058333333333334\n"
          ]
        }
      ]
    },
    {
      "cell_type": "code",
      "source": [
        "import numpy as np\n",
        "import matplotlib.pyplot as plt\n",
        "features=X.columns\n",
        "importances = rf.feature_importances_\n",
        "indices = np.argsort(importances)\n",
        "\n",
        "plt.figure(1)\n",
        "plt.title('Feature Importances')\n",
        "plt.barh(range(len(indices)), importances[indices], color='b', align='center')\n",
        "plt.yticks(range(len(indices)), features[indices])\n",
        "plt.xlabel('Relative Importance')"
      ],
      "metadata": {
        "colab": {
          "base_uri": "https://localhost:8080/",
          "height": 490
        },
        "id": "emoUaV1E3hf-",
        "outputId": "fb3d3c69-f5ee-4048-f2f6-686f4f91ee3d"
      },
      "execution_count": null,
      "outputs": [
        {
          "output_type": "execute_result",
          "data": {
            "text/plain": [
              "Text(0.5, 0, 'Relative Importance')"
            ]
          },
          "metadata": {},
          "execution_count": 229
        },
        {
          "output_type": "display_data",
          "data": {
            "text/plain": [
              "<Figure size 640x480 with 1 Axes>"
            ],
            "image/png": "[encoded data removed]"
          },
          "metadata": {}
        }
      ]
    },
    {
      "cell_type": "code",
      "source": [
        "# Without Microbial Diversity Features\n",
        "X=X.drop(['bacOTUs_per_sample', 'bac_abundance', 'Fungi_abundance', 'FungiOTU_per_sample'], axis=1)\n",
        "\n",
        "\n",
        "from sklearn.model_selection import train_test_split\n",
        "X_train, X_test, y_train, y_test = train_test_split(X, Y, test_size=0.2, random_state=42)\n",
        "\n",
        "from sklearn.preprocessing import StandardScaler\n",
        "sc=StandardScaler()\n",
        "X_train=sc.fit_transform(X_train)\n",
        "X_test=sc.transform(X_test)\n",
        "\n",
        "\n",
        "rf=RandomForestRegressor(random_state=20)\n",
        "rf.fit(X_train, y_train)\n",
        "yhat=rf.predict(X_test)\n",
        "print('Random', mean_absolute_error(y_test, yhat))\n",
        "\n",
        "gb=GradientBoostingRegressor()\n",
        "gb.fit(X_train, y_train)\n",
        "yhat=rf.predict(X_test)\n",
        "print('Gb', mean_absolute_error(y_test, yhat) )\n",
        "\n",
        "import xgboost as xg\n",
        "xgb_r = xg.XGBRegressor()\n",
        "xgb_r.fit(X_train, y_train)\n",
        "yhat=xgb_r.predict(X_test)\n",
        "print('Xgb', mean_absolute_error(y_test, yhat) )\n",
        "\n",
        "from catboost import CatBoostRegressor\n",
        "ct= CatBoostRegressor(verbose=0)\n",
        "ct.fit(X_train, y_train)\n",
        "yhat=ct.predict(X_test)\n",
        "print ('cat', mean_absolute_error(y_test, yhat) )\n",
        "\n",
        "from sklearn.tree import DecisionTreeRegressor\n",
        "dt=DecisionTreeRegressor()\n",
        "dt.fit(X_train, y_train)\n",
        "yhat=dt.predict(X_test)\n",
        "print('dt', mean_absolute_error(y_test, yhat) )"
      ],
      "metadata": {
        "colab": {
          "base_uri": "https://localhost:8080/"
        },
        "id": "MEXJubQs3hdI",
        "outputId": "bcef7b0c-285c-4b39-90c8-0f739cd642fe"
      },
      "execution_count": null,
      "outputs": [
        {
          "output_type": "stream",
          "name": "stdout",
          "text": [
            "Random 6.89975925925926\n",
            "Gb 6.89975925925926\n",
            "Xgb 8.520341770737259\n",
            "cat 7.787718401772183\n",
            "dt 10.164814814814816\n"
          ]
        }
      ]
    }
  ],
  "metadata": {
    "colab": {
      "provenance": []
    },
    "kernelspec": {
      "display_name": "Python 3",
      "name": "python3"
    },
    "language_info": {
      "name": "python"
    }
  },
  "nbformat": 4,
  "nbformat_minor": 0
}