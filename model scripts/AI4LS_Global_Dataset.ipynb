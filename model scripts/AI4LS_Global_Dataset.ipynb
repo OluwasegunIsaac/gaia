{
  "nbformat": 4,
  "nbformat_minor": 0,
  "metadata": {
    "colab": {
      "provenance": []
    },
    "kernelspec": {
      "name": "python3",
      "display_name": "Python 3"
    },
    "language_info": {
      "name": "python"
    }
  },
  "cells": [
    {
      "cell_type": "code",
      "source": [
        "# install Catboost\n",
        "! pip install catboost"
      ],
      "metadata": {
        "colab": {
          "base_uri": "https://localhost:8080/"
        },
        "id": "YQvkuVkflZD4",
        "outputId": "f82136d3-5340-4eea-f9e4-8b914616f053"
      },
      "execution_count": 12,
      "outputs": [
        {
          "output_type": "stream",
          "name": "stdout",
          "text": [
            "Requirement already satisfied: catboost in /usr/local/lib/python3.10/dist-packages (1.2.2)\n",
            "Requirement already satisfied: graphviz in /usr/local/lib/python3.10/dist-packages (from catboost) (0.20.1)\n",
            "Requirement already satisfied: matplotlib in /usr/local/lib/python3.10/dist-packages (from catboost) (3.7.1)\n",
            "Requirement already satisfied: numpy>=1.16.0 in /usr/local/lib/python3.10/dist-packages (from catboost) (1.23.5)\n",
            "Requirement already satisfied: pandas>=0.24 in /usr/local/lib/python3.10/dist-packages (from catboost) (1.5.3)\n",
            "Requirement already satisfied: scipy in /usr/local/lib/python3.10/dist-packages (from catboost) (1.11.4)\n",
            "Requirement already satisfied: plotly in /usr/local/lib/python3.10/dist-packages (from catboost) (5.15.0)\n",
            "Requirement already satisfied: six in /usr/local/lib/python3.10/dist-packages (from catboost) (1.16.0)\n",
            "Requirement already satisfied: python-dateutil>=2.8.1 in /usr/local/lib/python3.10/dist-packages (from pandas>=0.24->catboost) (2.8.2)\n",
            "Requirement already satisfied: pytz>=2020.1 in /usr/local/lib/python3.10/dist-packages (from pandas>=0.24->catboost) (2023.3.post1)\n",
            "Requirement already satisfied: contourpy>=1.0.1 in /usr/local/lib/python3.10/dist-packages (from matplotlib->catboost) (1.2.0)\n",
            "Requirement already satisfied: cycler>=0.10 in /usr/local/lib/python3.10/dist-packages (from matplotlib->catboost) (0.12.1)\n",
            "Requirement already satisfied: fonttools>=4.22.0 in /usr/local/lib/python3.10/dist-packages (from matplotlib->catboost) (4.46.0)\n",
            "Requirement already satisfied: kiwisolver>=1.0.1 in /usr/local/lib/python3.10/dist-packages (from matplotlib->catboost) (1.4.5)\n",
            "Requirement already satisfied: packaging>=20.0 in /usr/local/lib/python3.10/dist-packages (from matplotlib->catboost) (23.2)\n",
            "Requirement already satisfied: pillow>=6.2.0 in /usr/local/lib/python3.10/dist-packages (from matplotlib->catboost) (9.4.0)\n",
            "Requirement already satisfied: pyparsing>=2.3.1 in /usr/local/lib/python3.10/dist-packages (from matplotlib->catboost) (3.1.1)\n",
            "Requirement already satisfied: tenacity>=6.2.0 in /usr/local/lib/python3.10/dist-packages (from plotly->catboost) (8.2.3)\n"
          ]
        }
      ]
    },
    {
      "cell_type": "code",
      "source": [
        "# Load libraries\n",
        "from sklearn.metrics import f1_score\n",
        "from sklearn.ensemble import RandomForestClassifier, GradientBoostingClassifier, RandomForestRegressor, GradientBoostingRegressor\n",
        "from sklearn.preprocessing import LabelEncoder\n",
        "from sklearn.metrics import mean_absolute_error\n",
        "import pandas as pd"
      ],
      "metadata": {
        "id": "MidFeVPkslYY"
      },
      "execution_count": 13,
      "outputs": []
    },
    {
      "cell_type": "code",
      "source": [
        "# Load dataset and drop unneeded columns\n",
        "df=pd.read_table('/content/drive/MyDrive/fungi_data.txt', on_bad_lines=\"skip\", encoding='cp1252', delimiter=\"\\t\")\n",
        "df=df[['plot','Last_fire_y_ago', 'biome', 'nativeness','warning', 'delta15N', 'N_conc_g_kg', 'P_conc_mg_kg', 'abund', 'richness' ]]\n",
        "df"
      ],
      "metadata": {
        "colab": {
          "base_uri": "https://localhost:8080/",
          "height": 597
        },
        "id": "eUAtkrY6cIjZ",
        "outputId": "1e41afd8-038f-4f9a-d252-8f2567d06ffe"
      },
      "execution_count": 14,
      "outputs": [
        {
          "output_type": "execute_result",
          "data": {
            "text/plain": [
              "       plot Last_fire_y_ago                                      biome  \\\n",
              "0      10MR             100  forest: temperate coniferous forest biome   \n",
              "1      11MR             100  forest: temperate coniferous forest biome   \n",
              "2      12MR             100  forest: temperate coniferous forest biome   \n",
              "3      13MR             100  forest: temperate coniferous forest biome   \n",
              "4      14MR             100  forest: temperate coniferous forest biome   \n",
              "...     ...             ...                                        ...   \n",
              "3195  TR055             100              anthropogenic: cropland biome   \n",
              "3196  TR060             100              anthropogenic: cropland biome   \n",
              "3197  TR064             100              anthropogenic: cropland biome   \n",
              "3198  TR065             100              anthropogenic: cropland biome   \n",
              "3199  TR067             100              anthropogenic: cropland biome   \n",
              "\n",
              "     nativeness warning      delta15N  N_conc_g_kg P_conc_mg_kg  abund  \\\n",
              "0           NaN     NaN  -0.446175102  2.349947581  30.66579235   1718   \n",
              "1           NaN     NaN   1.958914608  8.607632877  62.25348279   2908   \n",
              "2           NaN     NaN   0.787812682  2.860775081  9.591139565   1842   \n",
              "3           NaN     NaN   1.911578324  3.896421684  20.44708227   1010   \n",
              "4           NaN     NaN   0.150616451  3.435929682  11.42307692   2440   \n",
              "...         ...     ...           ...          ...          ...    ...   \n",
              "3195        NaN     NaN   3.017526686  3.488803847  41.91356431   3267   \n",
              "3196        NaN     NaN   3.463565899  6.800029375  73.81886088   1660   \n",
              "3197        NaN     NaN   4.338935739  1.938107722  106.1364112   3058   \n",
              "3198        NaN     NaN   6.807058453  1.696994407  194.6655077   1547   \n",
              "3199        NaN     NaN   8.537506068  4.572176896      unknown   3129   \n",
              "\n",
              "      richness  \n",
              "0          380  \n",
              "1          669  \n",
              "2          514  \n",
              "3          370  \n",
              "4          518  \n",
              "...        ...  \n",
              "3195       659  \n",
              "3196       574  \n",
              "3197       606  \n",
              "3198       425  \n",
              "3199       652  \n",
              "\n",
              "[3200 rows x 10 columns]"
            ],
            "text/html": [
              "\n",
              "  <div id=\"df-8422be91-f4ab-413e-bcea-33febf669b58\" class=\"colab-df-container\">\n",
              "    <div>\n",
              "<style scoped>\n",
              "    .dataframe tbody tr th:only-of-type {\n",
              "        vertical-align: middle;\n",
              "    }\n",
              "\n",
              "    .dataframe tbody tr th {\n",
              "        vertical-align: top;\n",
              "    }\n",
              "\n",
              "    .dataframe thead th {\n",
              "        text-align: right;\n",
              "    }\n",
              "</style>\n",
              "<table border=\"1\" class=\"dataframe\">\n",
              "  <thead>\n",
              "    <tr style=\"text-align: right;\">\n",
              "      <th></th>\n",
              "      <th>plot</th>\n",
              "      <th>Last_fire_y_ago</th>\n",
              "      <th>biome</th>\n",
              "      <th>nativeness</th>\n",
              "      <th>warning</th>\n",
              "      <th>delta15N</th>\n",
              "      <th>N_conc_g_kg</th>\n",
              "      <th>P_conc_mg_kg</th>\n",
              "      <th>abund</th>\n",
              "      <th>richness</th>\n",
              "    </tr>\n",
              "  </thead>\n",
              "  <tbody>\n",
              "    <tr>\n",
              "      <th>0</th>\n",
              "      <td>10MR</td>\n",
              "      <td>100</td>\n",
              "      <td>forest: temperate coniferous forest biome</td>\n",
              "      <td>NaN</td>\n",
              "      <td>NaN</td>\n",
              "      <td>-0.446175102</td>\n",
              "      <td>2.349947581</td>\n",
              "      <td>30.66579235</td>\n",
              "      <td>1718</td>\n",
              "      <td>380</td>\n",
              "    </tr>\n",
              "    <tr>\n",
              "      <th>1</th>\n",
              "      <td>11MR</td>\n",
              "      <td>100</td>\n",
              "      <td>forest: temperate coniferous forest biome</td>\n",
              "      <td>NaN</td>\n",
              "      <td>NaN</td>\n",
              "      <td>1.958914608</td>\n",
              "      <td>8.607632877</td>\n",
              "      <td>62.25348279</td>\n",
              "      <td>2908</td>\n",
              "      <td>669</td>\n",
              "    </tr>\n",
              "    <tr>\n",
              "      <th>2</th>\n",
              "      <td>12MR</td>\n",
              "      <td>100</td>\n",
              "      <td>forest: temperate coniferous forest biome</td>\n",
              "      <td>NaN</td>\n",
              "      <td>NaN</td>\n",
              "      <td>0.787812682</td>\n",
              "      <td>2.860775081</td>\n",
              "      <td>9.591139565</td>\n",
              "      <td>1842</td>\n",
              "      <td>514</td>\n",
              "    </tr>\n",
              "    <tr>\n",
              "      <th>3</th>\n",
              "      <td>13MR</td>\n",
              "      <td>100</td>\n",
              "      <td>forest: temperate coniferous forest biome</td>\n",
              "      <td>NaN</td>\n",
              "      <td>NaN</td>\n",
              "      <td>1.911578324</td>\n",
              "      <td>3.896421684</td>\n",
              "      <td>20.44708227</td>\n",
              "      <td>1010</td>\n",
              "      <td>370</td>\n",
              "    </tr>\n",
              "    <tr>\n",
              "      <th>4</th>\n",
              "      <td>14MR</td>\n",
              "      <td>100</td>\n",
              "      <td>forest: temperate coniferous forest biome</td>\n",
              "      <td>NaN</td>\n",
              "      <td>NaN</td>\n",
              "      <td>0.150616451</td>\n",
              "      <td>3.435929682</td>\n",
              "      <td>11.42307692</td>\n",
              "      <td>2440</td>\n",
              "      <td>518</td>\n",
              "    </tr>\n",
              "    <tr>\n",
              "      <th>...</th>\n",
              "      <td>...</td>\n",
              "      <td>...</td>\n",
              "      <td>...</td>\n",
              "      <td>...</td>\n",
              "      <td>...</td>\n",
              "      <td>...</td>\n",
              "      <td>...</td>\n",
              "      <td>...</td>\n",
              "      <td>...</td>\n",
              "      <td>...</td>\n",
              "    </tr>\n",
              "    <tr>\n",
              "      <th>3195</th>\n",
              "      <td>TR055</td>\n",
              "      <td>100</td>\n",
              "      <td>anthropogenic: cropland biome</td>\n",
              "      <td>NaN</td>\n",
              "      <td>NaN</td>\n",
              "      <td>3.017526686</td>\n",
              "      <td>3.488803847</td>\n",
              "      <td>41.91356431</td>\n",
              "      <td>3267</td>\n",
              "      <td>659</td>\n",
              "    </tr>\n",
              "    <tr>\n",
              "      <th>3196</th>\n",
              "      <td>TR060</td>\n",
              "      <td>100</td>\n",
              "      <td>anthropogenic: cropland biome</td>\n",
              "      <td>NaN</td>\n",
              "      <td>NaN</td>\n",
              "      <td>3.463565899</td>\n",
              "      <td>6.800029375</td>\n",
              "      <td>73.81886088</td>\n",
              "      <td>1660</td>\n",
              "      <td>574</td>\n",
              "    </tr>\n",
              "    <tr>\n",
              "      <th>3197</th>\n",
              "      <td>TR064</td>\n",
              "      <td>100</td>\n",
              "      <td>anthropogenic: cropland biome</td>\n",
              "      <td>NaN</td>\n",
              "      <td>NaN</td>\n",
              "      <td>4.338935739</td>\n",
              "      <td>1.938107722</td>\n",
              "      <td>106.1364112</td>\n",
              "      <td>3058</td>\n",
              "      <td>606</td>\n",
              "    </tr>\n",
              "    <tr>\n",
              "      <th>3198</th>\n",
              "      <td>TR065</td>\n",
              "      <td>100</td>\n",
              "      <td>anthropogenic: cropland biome</td>\n",
              "      <td>NaN</td>\n",
              "      <td>NaN</td>\n",
              "      <td>6.807058453</td>\n",
              "      <td>1.696994407</td>\n",
              "      <td>194.6655077</td>\n",
              "      <td>1547</td>\n",
              "      <td>425</td>\n",
              "    </tr>\n",
              "    <tr>\n",
              "      <th>3199</th>\n",
              "      <td>TR067</td>\n",
              "      <td>100</td>\n",
              "      <td>anthropogenic: cropland biome</td>\n",
              "      <td>NaN</td>\n",
              "      <td>NaN</td>\n",
              "      <td>8.537506068</td>\n",
              "      <td>4.572176896</td>\n",
              "      <td>unknown</td>\n",
              "      <td>3129</td>\n",
              "      <td>652</td>\n",
              "    </tr>\n",
              "  </tbody>\n",
              "</table>\n",
              "<p>3200 rows × 10 columns</p>\n",
              "</div>\n",
              "    <div class=\"colab-df-buttons\">\n",
              "\n",
              "  <div class=\"colab-df-container\">\n",
              "    <button class=\"colab-df-convert\" onclick=\"convertToInteractive('df-8422be91-f4ab-413e-bcea-33febf669b58')\"\n",
              "            title=\"Convert this dataframe to an interactive table.\"\n",
              "            style=\"display:none;\">\n",
              "\n",
              "  <svg xmlns=\"http://www.w3.org/2000/svg\" height=\"24px\" viewBox=\"0 -960 960 960\">\n",
              "    <path d=\"M120-120v-720h720v720H120Zm60-500h600v-160H180v160Zm220 220h160v-160H400v160Zm0 220h160v-160H400v160ZM180-400h160v-160H180v160Zm440 0h160v-160H620v160ZM180-180h160v-160H180v160Zm440 0h160v-160H620v160Z\"/>\n",
              "  </svg>\n",
              "    </button>\n",
              "\n",
              "  <style>\n",
              "    .colab-df-container {\n",
              "      display:flex;\n",
              "      gap: 12px;\n",
              "    }\n",
              "\n",
              "    .colab-df-convert {\n",
              "      background-color: #E8F0FE;\n",
              "      border: none;\n",
              "      border-radius: 50%;\n",
              "      cursor: pointer;\n",
              "      display: none;\n",
              "      fill: #1967D2;\n",
              "      height: 32px;\n",
              "      padding: 0 0 0 0;\n",
              "      width: 32px;\n",
              "    }\n",
              "\n",
              "    .colab-df-convert:hover {\n",
              "      background-color: #E2EBFA;\n",
              "      box-shadow: 0px 1px 2px rgba(60, 64, 67, 0.3), 0px 1px 3px 1px rgba(60, 64, 67, 0.15);\n",
              "      fill: #174EA6;\n",
              "    }\n",
              "\n",
              "    .colab-df-buttons div {\n",
              "      margin-bottom: 4px;\n",
              "    }\n",
              "\n",
              "    [theme=dark] .colab-df-convert {\n",
              "      background-color: #3B4455;\n",
              "      fill: #D2E3FC;\n",
              "    }\n",
              "\n",
              "    [theme=dark] .colab-df-convert:hover {\n",
              "      background-color: #434B5C;\n",
              "      box-shadow: 0px 1px 3px 1px rgba(0, 0, 0, 0.15);\n",
              "      filter: drop-shadow(0px 1px 2px rgba(0, 0, 0, 0.3));\n",
              "      fill: #FFFFFF;\n",
              "    }\n",
              "  </style>\n",
              "\n",
              "    <script>\n",
              "      const buttonEl =\n",
              "        document.querySelector('#df-8422be91-f4ab-413e-bcea-33febf669b58 button.colab-df-convert');\n",
              "      buttonEl.style.display =\n",
              "        google.colab.kernel.accessAllowed ? 'block' : 'none';\n",
              "\n",
              "      async function convertToInteractive(key) {\n",
              "        const element = document.querySelector('#df-8422be91-f4ab-413e-bcea-33febf669b58');\n",
              "        const dataTable =\n",
              "          await google.colab.kernel.invokeFunction('convertToInteractive',\n",
              "                                                    [key], {});\n",
              "        if (!dataTable) return;\n",
              "\n",
              "        const docLinkHtml = 'Like what you see? Visit the ' +\n",
              "          '<a target=\"_blank\" href=https://colab.research.google.com/notebooks/data_table.ipynb>data table notebook</a>'\n",
              "          + ' to learn more about interactive tables.';\n",
              "        element.innerHTML = '';\n",
              "        dataTable['output_type'] = 'display_data';\n",
              "        await google.colab.output.renderOutput(dataTable, element);\n",
              "        const docLink = document.createElement('div');\n",
              "        docLink.innerHTML = docLinkHtml;\n",
              "        element.appendChild(docLink);\n",
              "      }\n",
              "    </script>\n",
              "  </div>\n",
              "\n",
              "\n",
              "<div id=\"df-6af33c3d-200d-4404-a2d9-a3ce69f5f4f3\">\n",
              "  <button class=\"colab-df-quickchart\" onclick=\"quickchart('df-6af33c3d-200d-4404-a2d9-a3ce69f5f4f3')\"\n",
              "            title=\"Suggest charts\"\n",
              "            style=\"display:none;\">\n",
              "\n",
              "<svg xmlns=\"http://www.w3.org/2000/svg\" height=\"24px\"viewBox=\"0 0 24 24\"\n",
              "     width=\"24px\">\n",
              "    <g>\n",
              "        <path d=\"M19 3H5c-1.1 0-2 .9-2 2v14c0 1.1.9 2 2 2h14c1.1 0 2-.9 2-2V5c0-1.1-.9-2-2-2zM9 17H7v-7h2v7zm4 0h-2V7h2v10zm4 0h-2v-4h2v4z\"/>\n",
              "    </g>\n",
              "</svg>\n",
              "  </button>\n",
              "\n",
              "<style>\n",
              "  .colab-df-quickchart {\n",
              "      --bg-color: #E8F0FE;\n",
              "      --fill-color: #1967D2;\n",
              "      --hover-bg-color: #E2EBFA;\n",
              "      --hover-fill-color: #174EA6;\n",
              "      --disabled-fill-color: #AAA;\n",
              "      --disabled-bg-color: #DDD;\n",
              "  }\n",
              "\n",
              "  [theme=dark] .colab-df-quickchart {\n",
              "      --bg-color: #3B4455;\n",
              "      --fill-color: #D2E3FC;\n",
              "      --hover-bg-color: #434B5C;\n",
              "      --hover-fill-color: #FFFFFF;\n",
              "      --disabled-bg-color: #3B4455;\n",
              "      --disabled-fill-color: #666;\n",
              "  }\n",
              "\n",
              "  .colab-df-quickchart {\n",
              "    background-color: var(--bg-color);\n",
              "    border: none;\n",
              "    border-radius: 50%;\n",
              "    cursor: pointer;\n",
              "    display: none;\n",
              "    fill: var(--fill-color);\n",
              "    height: 32px;\n",
              "    padding: 0;\n",
              "    width: 32px;\n",
              "  }\n",
              "\n",
              "  .colab-df-quickchart:hover {\n",
              "    background-color: var(--hover-bg-color);\n",
              "    box-shadow: 0 1px 2px rgba(60, 64, 67, 0.3), 0 1px 3px 1px rgba(60, 64, 67, 0.15);\n",
              "    fill: var(--button-hover-fill-color);\n",
              "  }\n",
              "\n",
              "  .colab-df-quickchart-complete:disabled,\n",
              "  .colab-df-quickchart-complete:disabled:hover {\n",
              "    background-color: var(--disabled-bg-color);\n",
              "    fill: var(--disabled-fill-color);\n",
              "    box-shadow: none;\n",
              "  }\n",
              "\n",
              "  .colab-df-spinner {\n",
              "    border: 2px solid var(--fill-color);\n",
              "    border-color: transparent;\n",
              "    border-bottom-color: var(--fill-color);\n",
              "    animation:\n",
              "      spin 1s steps(1) infinite;\n",
              "  }\n",
              "\n",
              "  @keyframes spin {\n",
              "    0% {\n",
              "      border-color: transparent;\n",
              "      border-bottom-color: var(--fill-color);\n",
              "      border-left-color: var(--fill-color);\n",
              "    }\n",
              "    20% {\n",
              "      border-color: transparent;\n",
              "      border-left-color: var(--fill-color);\n",
              "      border-top-color: var(--fill-color);\n",
              "    }\n",
              "    30% {\n",
              "      border-color: transparent;\n",
              "      border-left-color: var(--fill-color);\n",
              "      border-top-color: var(--fill-color);\n",
              "      border-right-color: var(--fill-color);\n",
              "    }\n",
              "    40% {\n",
              "      border-color: transparent;\n",
              "      border-right-color: var(--fill-color);\n",
              "      border-top-color: var(--fill-color);\n",
              "    }\n",
              "    60% {\n",
              "      border-color: transparent;\n",
              "      border-right-color: var(--fill-color);\n",
              "    }\n",
              "    80% {\n",
              "      border-color: transparent;\n",
              "      border-right-color: var(--fill-color);\n",
              "      border-bottom-color: var(--fill-color);\n",
              "    }\n",
              "    90% {\n",
              "      border-color: transparent;\n",
              "      border-bottom-color: var(--fill-color);\n",
              "    }\n",
              "  }\n",
              "</style>\n",
              "\n",
              "  <script>\n",
              "    async function quickchart(key) {\n",
              "      const quickchartButtonEl =\n",
              "        document.querySelector('#' + key + ' button');\n",
              "      quickchartButtonEl.disabled = true;  // To prevent multiple clicks.\n",
              "      quickchartButtonEl.classList.add('colab-df-spinner');\n",
              "      try {\n",
              "        const charts = await google.colab.kernel.invokeFunction(\n",
              "            'suggestCharts', [key], {});\n",
              "      } catch (error) {\n",
              "        console.error('Error during call to suggestCharts:', error);\n",
              "      }\n",
              "      quickchartButtonEl.classList.remove('colab-df-spinner');\n",
              "      quickchartButtonEl.classList.add('colab-df-quickchart-complete');\n",
              "    }\n",
              "    (() => {\n",
              "      let quickchartButtonEl =\n",
              "        document.querySelector('#df-6af33c3d-200d-4404-a2d9-a3ce69f5f4f3 button');\n",
              "      quickchartButtonEl.style.display =\n",
              "        google.colab.kernel.accessAllowed ? 'block' : 'none';\n",
              "    })();\n",
              "  </script>\n",
              "</div>\n",
              "\n",
              "  <div id=\"id_92b600d5-7058-4e4b-93e1-edcadcaefa77\">\n",
              "    <style>\n",
              "      .colab-df-generate {\n",
              "        background-color: #E8F0FE;\n",
              "        border: none;\n",
              "        border-radius: 50%;\n",
              "        cursor: pointer;\n",
              "        display: none;\n",
              "        fill: #1967D2;\n",
              "        height: 32px;\n",
              "        padding: 0 0 0 0;\n",
              "        width: 32px;\n",
              "      }\n",
              "\n",
              "      .colab-df-generate:hover {\n",
              "        background-color: #E2EBFA;\n",
              "        box-shadow: 0px 1px 2px rgba(60, 64, 67, 0.3), 0px 1px 3px 1px rgba(60, 64, 67, 0.15);\n",
              "        fill: #174EA6;\n",
              "      }\n",
              "\n",
              "      [theme=dark] .colab-df-generate {\n",
              "        background-color: #3B4455;\n",
              "        fill: #D2E3FC;\n",
              "      }\n",
              "\n",
              "      [theme=dark] .colab-df-generate:hover {\n",
              "        background-color: #434B5C;\n",
              "        box-shadow: 0px 1px 3px 1px rgba(0, 0, 0, 0.15);\n",
              "        filter: drop-shadow(0px 1px 2px rgba(0, 0, 0, 0.3));\n",
              "        fill: #FFFFFF;\n",
              "      }\n",
              "    </style>\n",
              "    <button class=\"colab-df-generate\" onclick=\"generateWithVariable('df')\"\n",
              "            title=\"Generate code using this dataframe.\"\n",
              "            style=\"display:none;\">\n",
              "\n",
              "  <svg xmlns=\"http://www.w3.org/2000/svg\" height=\"24px\"viewBox=\"0 0 24 24\"\n",
              "       width=\"24px\">\n",
              "    <path d=\"M7,19H8.4L18.45,9,17,7.55,7,17.6ZM5,21V16.75L18.45,3.32a2,2,0,0,1,2.83,0l1.4,1.43a1.91,1.91,0,0,1,.58,1.4,1.91,1.91,0,0,1-.58,1.4L9.25,21ZM18.45,9,17,7.55Zm-12,3A5.31,5.31,0,0,0,4.9,8.1,5.31,5.31,0,0,0,1,6.5,5.31,5.31,0,0,0,4.9,4.9,5.31,5.31,0,0,0,6.5,1,5.31,5.31,0,0,0,8.1,4.9,5.31,5.31,0,0,0,12,6.5,5.46,5.46,0,0,0,6.5,12Z\"/>\n",
              "  </svg>\n",
              "    </button>\n",
              "    <script>\n",
              "      (() => {\n",
              "      const buttonEl =\n",
              "        document.querySelector('#id_92b600d5-7058-4e4b-93e1-edcadcaefa77 button.colab-df-generate');\n",
              "      buttonEl.style.display =\n",
              "        google.colab.kernel.accessAllowed ? 'block' : 'none';\n",
              "\n",
              "      buttonEl.onclick = () => {\n",
              "        google.colab.notebook.generateWithVariable('df');\n",
              "      }\n",
              "      })();\n",
              "    </script>\n",
              "  </div>\n",
              "\n",
              "    </div>\n",
              "  </div>\n"
            ]
          },
          "metadata": {},
          "execution_count": 14
        }
      ]
    },
    {
      "cell_type": "code",
      "source": [
        "# Fill missing values\n",
        "df['nativeness']=df['nativeness'].fillna('native')\n",
        "df['warning'] = df['warning'].fillna('no concern')\n",
        "df['Last_fire_y_ago'].replace('unknown', '-999', inplace=True)\n",
        "df['Last_fire_y_ago']=df['Last_fire_y_ago'].astype('float64')\n",
        "df[['delta15N',\t'N_conc_g_kg',\t'P_conc_mg_kg']]=df[['delta15N',\t'N_conc_g_kg',\t'P_conc_mg_kg']].replace('unknown', '-999')\n",
        "df[['delta15N',\t'N_conc_g_kg',\t'P_conc_mg_kg']]=df[['delta15N',\t'N_conc_g_kg',\t'P_conc_mg_kg']].astype('float64')"
      ],
      "metadata": {
        "id": "OkoLq9TCk8lY"
      },
      "execution_count": 15,
      "outputs": []
    },
    {
      "cell_type": "code",
      "source": [
        "# Clean Biome and Biome Specific features\n",
        "df[['Biome', 'Biome specific']]=df['biome'].str.split(':', n=1, expand=True)\n",
        "df.drop('biome', axis=1, inplace=True)"
      ],
      "metadata": {
        "id": "KJ0UdiC7pP6L"
      },
      "execution_count": 16,
      "outputs": []
    },
    {
      "cell_type": "code",
      "source": [
        "# Label encode the features\n",
        "import pickle\n",
        "for i in ['nativeness', 'warning', 'Biome', 'Biome specific']:\n",
        "  le=LabelEncoder()\n",
        "  name= i +  '.pkl'\n",
        "  output = open(name, 'wb')\n",
        "  df[i]=le.fit_transform(df[i])\n",
        "  pickle.dump(le, output)\n",
        "  output.close()"
      ],
      "metadata": {
        "id": "EzzQsKOJpNps"
      },
      "execution_count": 17,
      "outputs": []
    },
    {
      "cell_type": "code",
      "source": [
        "df_cleaned=df.copy()"
      ],
      "metadata": {
        "id": "mtf-G2ndnHp4"
      },
      "execution_count": 18,
      "outputs": []
    },
    {
      "cell_type": "markdown",
      "source": [
        "**Fungi Abundance**"
      ],
      "metadata": {
        "id": "ABNCSewWk5Lr"
      }
    },
    {
      "cell_type": "code",
      "source": [
        "# Split to dependent and independent variables\n",
        "X=df.drop(['abund', 'richness', 'plot'], axis=1)\n",
        "y= df['abund']\n",
        "# split to train and test\n",
        "from sklearn.model_selection import train_test_split\n",
        "X_train, X_test, y_train, y_test = train_test_split(X, y, test_size=0.07, random_state=42)"
      ],
      "metadata": {
        "id": "V0LOiXrWsaUD"
      },
      "execution_count": 19,
      "outputs": []
    },
    {
      "cell_type": "code",
      "source": [
        "# Build regressor model for fungi abundance prediction\n",
        "rf=RandomForestRegressor(random_state=20)\n",
        "rf.fit(X_train, y_train)\n",
        "yhat=rf.predict(X_test)\n",
        "print('Random', mean_absolute_error(y_test, yhat))\n",
        "\n",
        "gb=GradientBoostingRegressor()\n",
        "gb.fit(X_train, y_train)\n",
        "yhat=rf.predict(X_test)\n",
        "print('Gb', mean_absolute_error(y_test, yhat) )\n",
        "\n",
        "import xgboost as xg\n",
        "xgb_r = xg.XGBRegressor()\n",
        "xgb_r.fit(X_train, y_train)\n",
        "yhat=xgb_r.predict(X_test)\n",
        "print('Xgb', mean_absolute_error(y_test, yhat) )\n",
        "\n",
        "from catboost import CatBoostRegressor\n",
        "ct= CatBoostRegressor(verbose=0)\n",
        "ct.fit(X_train, y_train)\n",
        "yhat=ct.predict(X_test)\n",
        "print ('cat', mean_absolute_error(y_test, yhat) )\n",
        "\n",
        "from sklearn.tree import DecisionTreeRegressor\n",
        "dt=DecisionTreeRegressor()\n",
        "dt.fit(X_train, y_train)\n",
        "yhat=dt.predict(X_test)\n",
        "print('dt', mean_absolute_error(y_test, yhat) )"
      ],
      "metadata": {
        "colab": {
          "base_uri": "https://localhost:8080/"
        },
        "id": "TE5ZnB1Bugw4",
        "outputId": "4efe8b64-197a-4269-be38-0908cc9fa9ca"
      },
      "execution_count": 20,
      "outputs": [
        {
          "output_type": "stream",
          "name": "stdout",
          "text": [
            "Random 2191.679204074074\n",
            "Gb 2191.679204074074\n",
            "Xgb 2236.598237575955\n",
            "cat 2133.283976316347\n",
            "dt 2798.9466666666667\n"
          ]
        }
      ]
    },
    {
      "cell_type": "code",
      "source": [
        "# Save best model\n",
        "from catboost import CatBoostRegressor\n",
        "ct= CatBoostRegressor(verbose=0)\n",
        "ct.fit(X, y)\n",
        "ct.save_model('ct_abundance_global')"
      ],
      "metadata": {
        "id": "_7RsFLN0Xa55"
      },
      "execution_count": null,
      "outputs": []
    },
    {
      "cell_type": "markdown",
      "source": [
        "**Fungi Richness**"
      ],
      "metadata": {
        "id": "V8ZYni8snY1d"
      }
    },
    {
      "cell_type": "code",
      "source": [
        "# Split to dependent and independent variables\n",
        "X=df.drop(['abund', 'richness', 'plot'], axis=1)\n",
        "y= df['richness']\n",
        "# Split to train and test\n",
        "from sklearn.model_selection import train_test_split\n",
        "X_train, X_test, y_train, y_test = train_test_split(X, y, test_size=0.07, random_state=42)"
      ],
      "metadata": {
        "id": "xCagDc7OnbYn"
      },
      "execution_count": 21,
      "outputs": []
    },
    {
      "cell_type": "code",
      "source": [
        "# Build regressor model for fungi richness prediction\n",
        "rf=RandomForestRegressor(random_state=20)\n",
        "rf.fit(X_train, y_train)\n",
        "yhat=rf.predict(X_test)\n",
        "print('Random', mean_absolute_error(y_test, yhat))\n",
        "\n",
        "gb=GradientBoostingRegressor()\n",
        "gb.fit(X_train, y_train)\n",
        "yhat=rf.predict(X_test)\n",
        "print('Gb', mean_absolute_error(y_test, yhat) )\n",
        "\n",
        "import xgboost as xg\n",
        "xgb_r = xg.XGBRegressor()\n",
        "xgb_r.fit(X_train, y_train)\n",
        "yhat=xgb_r.predict(X_test)\n",
        "print('Xgb', mean_absolute_error(y_test, yhat) )\n",
        "\n",
        "from catboost import CatBoostRegressor\n",
        "ct= CatBoostRegressor(verbose=0)\n",
        "ct.fit(X_train, y_train)\n",
        "yhat=ct.predict(X_test)\n",
        "print ('cat', mean_absolute_error(y_test, yhat) )\n",
        "\n",
        "from sklearn.tree import DecisionTreeRegressor\n",
        "dt=DecisionTreeRegressor()\n",
        "dt.fit(X_train, y_train)\n",
        "yhat=dt.predict(X_test)\n",
        "print('dt', mean_absolute_error(y_test, yhat) )"
      ],
      "metadata": {
        "colab": {
          "base_uri": "https://localhost:8080/"
        },
        "id": "Cqz1rMibnlb6",
        "outputId": "5eb373dd-70e0-4cad-8e39-4d2fd515d1e6"
      },
      "execution_count": null,
      "outputs": [
        {
          "output_type": "stream",
          "name": "stdout",
          "text": [
            "Random 290.44989111111107\n",
            "Gb 290.44989111111107\n",
            "Xgb 296.7479515245226\n",
            "cat 278.73311867737743\n",
            "dt 381.61555555555555\n"
          ]
        }
      ]
    },
    {
      "cell_type": "code",
      "source": [
        "# Save best model\n",
        "from catboost import CatBoostRegressor\n",
        "ct= CatBoostRegressor(verbose=0)\n",
        "ct.fit(X, y)\n",
        "ct.save_model('ct_richness_global')"
      ],
      "metadata": {
        "id": "9iUXdNzZX05d"
      },
      "execution_count": null,
      "outputs": []
    },
    {
      "cell_type": "markdown",
      "source": [
        "**Fungi trophic Mode diversity Prediction**"
      ],
      "metadata": {
        "id": "-D_fkSjhYOW-"
      }
    },
    {
      "cell_type": "markdown",
      "source": [
        "Clean dataset"
      ],
      "metadata": {
        "id": "nKGqhm7JFl4o"
      }
    },
    {
      "cell_type": "code",
      "source": [
        "# path='/content/drive/MyDrive/global_fungi.guilds_filtered.csv.zip'\n",
        "# import zipfile\n",
        "# with zipfile.ZipFile(path, 'r') as zip_ref:\n",
        "#     zip_ref.extractall()"
      ],
      "metadata": {
        "id": "GoXPXVlrvYvf"
      },
      "execution_count": null,
      "outputs": []
    },
    {
      "cell_type": "code",
      "source": [
        "import pandas as pd\n",
        "df_guild=pd.read_csv('/content/global_fungi.guilds_filtered.csv')\n",
        "df_guild.replace('Saportroph', 'Saprotroph', inplace=True)\n",
        "df_guild.head()"
      ],
      "metadata": {
        "colab": {
          "base_uri": "https://localhost:8080/",
          "height": 226
        },
        "id": "URqntGxvvYpv",
        "outputId": "ed3f16cf-8078-4cde-9e51-aae7f80ef437"
      },
      "execution_count": 22,
      "outputs": [
        {
          "output_type": "execute_result",
          "data": {
            "text/plain": [
              "                                        OTU Kingdom         Phylum  \\\n",
              "0  850ed971e0e3fedba64b02b984b1c2af046d24fe   Fungi     Ascomycota   \n",
              "1  8bf5f5ba82723c4b98d6a667bae3465cbc07d445   Fungi     Ascomycota   \n",
              "2  b06ff698010bdfc59a9a7ae5c5e07d22960450f9   Fungi     Ascomycota   \n",
              "3  01cc0c41d82d43ab5b6ebd286a6d88c261dcda86   Fungi  Basidiomycota   \n",
              "4  0258ce9af3049f50c94d55c55e7c7fa6b85bc4c9   Fungi  Basidiomycota   \n",
              "\n",
              "            Order       Class          Family        Genus            Species  \\\n",
              "0   Leotiomycetes  Helotiales   Vibrisseaceae     Acephala  macrosclerotiorum   \n",
              "1   Leotiomycetes  Helotiales   Vibrisseaceae     Acephala  macrosclerotiorum   \n",
              "2   Leotiomycetes  Helotiales   Vibrisseaceae     Acephala                  .   \n",
              "3  Agaricomycetes  Russulales  Albatrellaceae  Albatrellus                  .   \n",
              "4  Agaricomycetes  Russulales  Albatrellaceae  Albatrellus                  .   \n",
              "\n",
              "         taxon  taxonomicLevel  trophicMode            guild trait  \\\n",
              "0     Acephala              13  Symbiotroph  Ectomycorrhizal   NaN   \n",
              "1     Acephala              13  Symbiotroph  Ectomycorrhizal   NaN   \n",
              "2     Acephala              13  Symbiotroph  Ectomycorrhizal   NaN   \n",
              "3  Albatrellus              13  Symbiotroph  Ectomycorrhizal   NaN   \n",
              "4  Albatrellus              13  Symbiotroph  Ectomycorrhizal   NaN   \n",
              "\n",
              "   growthForm confidenceRanking  \n",
              "0         NaN          Possible  \n",
              "1         NaN          Possible  \n",
              "2         NaN          Possible  \n",
              "3  Polyporoid   Highly Probable  \n",
              "4  Polyporoid   Highly Probable  "
            ],
            "text/html": [
              "\n",
              "  <div id=\"df-885a3add-7eb9-4072-94d9-88bf326cb7d1\" class=\"colab-df-container\">\n",
              "    <div>\n",
              "<style scoped>\n",
              "    .dataframe tbody tr th:only-of-type {\n",
              "        vertical-align: middle;\n",
              "    }\n",
              "\n",
              "    .dataframe tbody tr th {\n",
              "        vertical-align: top;\n",
              "    }\n",
              "\n",
              "    .dataframe thead th {\n",
              "        text-align: right;\n",
              "    }\n",
              "</style>\n",
              "<table border=\"1\" class=\"dataframe\">\n",
              "  <thead>\n",
              "    <tr style=\"text-align: right;\">\n",
              "      <th></th>\n",
              "      <th>OTU</th>\n",
              "      <th>Kingdom</th>\n",
              "      <th>Phylum</th>\n",
              "      <th>Order</th>\n",
              "      <th>Class</th>\n",
              "      <th>Family</th>\n",
              "      <th>Genus</th>\n",
              "      <th>Species</th>\n",
              "      <th>taxon</th>\n",
              "      <th>taxonomicLevel</th>\n",
              "      <th>trophicMode</th>\n",
              "      <th>guild</th>\n",
              "      <th>trait</th>\n",
              "      <th>growthForm</th>\n",
              "      <th>confidenceRanking</th>\n",
              "    </tr>\n",
              "  </thead>\n",
              "  <tbody>\n",
              "    <tr>\n",
              "      <th>0</th>\n",
              "      <td>850ed971e0e3fedba64b02b984b1c2af046d24fe</td>\n",
              "      <td>Fungi</td>\n",
              "      <td>Ascomycota</td>\n",
              "      <td>Leotiomycetes</td>\n",
              "      <td>Helotiales</td>\n",
              "      <td>Vibrisseaceae</td>\n",
              "      <td>Acephala</td>\n",
              "      <td>macrosclerotiorum</td>\n",
              "      <td>Acephala</td>\n",
              "      <td>13</td>\n",
              "      <td>Symbiotroph</td>\n",
              "      <td>Ectomycorrhizal</td>\n",
              "      <td>NaN</td>\n",
              "      <td>NaN</td>\n",
              "      <td>Possible</td>\n",
              "    </tr>\n",
              "    <tr>\n",
              "      <th>1</th>\n",
              "      <td>8bf5f5ba82723c4b98d6a667bae3465cbc07d445</td>\n",
              "      <td>Fungi</td>\n",
              "      <td>Ascomycota</td>\n",
              "      <td>Leotiomycetes</td>\n",
              "      <td>Helotiales</td>\n",
              "      <td>Vibrisseaceae</td>\n",
              "      <td>Acephala</td>\n",
              "      <td>macrosclerotiorum</td>\n",
              "      <td>Acephala</td>\n",
              "      <td>13</td>\n",
              "      <td>Symbiotroph</td>\n",
              "      <td>Ectomycorrhizal</td>\n",
              "      <td>NaN</td>\n",
              "      <td>NaN</td>\n",
              "      <td>Possible</td>\n",
              "    </tr>\n",
              "    <tr>\n",
              "      <th>2</th>\n",
              "      <td>b06ff698010bdfc59a9a7ae5c5e07d22960450f9</td>\n",
              "      <td>Fungi</td>\n",
              "      <td>Ascomycota</td>\n",
              "      <td>Leotiomycetes</td>\n",
              "      <td>Helotiales</td>\n",
              "      <td>Vibrisseaceae</td>\n",
              "      <td>Acephala</td>\n",
              "      <td>.</td>\n",
              "      <td>Acephala</td>\n",
              "      <td>13</td>\n",
              "      <td>Symbiotroph</td>\n",
              "      <td>Ectomycorrhizal</td>\n",
              "      <td>NaN</td>\n",
              "      <td>NaN</td>\n",
              "      <td>Possible</td>\n",
              "    </tr>\n",
              "    <tr>\n",
              "      <th>3</th>\n",
              "      <td>01cc0c41d82d43ab5b6ebd286a6d88c261dcda86</td>\n",
              "      <td>Fungi</td>\n",
              "      <td>Basidiomycota</td>\n",
              "      <td>Agaricomycetes</td>\n",
              "      <td>Russulales</td>\n",
              "      <td>Albatrellaceae</td>\n",
              "      <td>Albatrellus</td>\n",
              "      <td>.</td>\n",
              "      <td>Albatrellus</td>\n",
              "      <td>13</td>\n",
              "      <td>Symbiotroph</td>\n",
              "      <td>Ectomycorrhizal</td>\n",
              "      <td>NaN</td>\n",
              "      <td>Polyporoid</td>\n",
              "      <td>Highly Probable</td>\n",
              "    </tr>\n",
              "    <tr>\n",
              "      <th>4</th>\n",
              "      <td>0258ce9af3049f50c94d55c55e7c7fa6b85bc4c9</td>\n",
              "      <td>Fungi</td>\n",
              "      <td>Basidiomycota</td>\n",
              "      <td>Agaricomycetes</td>\n",
              "      <td>Russulales</td>\n",
              "      <td>Albatrellaceae</td>\n",
              "      <td>Albatrellus</td>\n",
              "      <td>.</td>\n",
              "      <td>Albatrellus</td>\n",
              "      <td>13</td>\n",
              "      <td>Symbiotroph</td>\n",
              "      <td>Ectomycorrhizal</td>\n",
              "      <td>NaN</td>\n",
              "      <td>Polyporoid</td>\n",
              "      <td>Highly Probable</td>\n",
              "    </tr>\n",
              "  </tbody>\n",
              "</table>\n",
              "</div>\n",
              "    <div class=\"colab-df-buttons\">\n",
              "\n",
              "  <div class=\"colab-df-container\">\n",
              "    <button class=\"colab-df-convert\" onclick=\"convertToInteractive('df-885a3add-7eb9-4072-94d9-88bf326cb7d1')\"\n",
              "            title=\"Convert this dataframe to an interactive table.\"\n",
              "            style=\"display:none;\">\n",
              "\n",
              "  <svg xmlns=\"http://www.w3.org/2000/svg\" height=\"24px\" viewBox=\"0 -960 960 960\">\n",
              "    <path d=\"M120-120v-720h720v720H120Zm60-500h600v-160H180v160Zm220 220h160v-160H400v160Zm0 220h160v-160H400v160ZM180-400h160v-160H180v160Zm440 0h160v-160H620v160ZM180-180h160v-160H180v160Zm440 0h160v-160H620v160Z\"/>\n",
              "  </svg>\n",
              "    </button>\n",
              "\n",
              "  <style>\n",
              "    .colab-df-container {\n",
              "      display:flex;\n",
              "      gap: 12px;\n",
              "    }\n",
              "\n",
              "    .colab-df-convert {\n",
              "      background-color: #E8F0FE;\n",
              "      border: none;\n",
              "      border-radius: 50%;\n",
              "      cursor: pointer;\n",
              "      display: none;\n",
              "      fill: #1967D2;\n",
              "      height: 32px;\n",
              "      padding: 0 0 0 0;\n",
              "      width: 32px;\n",
              "    }\n",
              "\n",
              "    .colab-df-convert:hover {\n",
              "      background-color: #E2EBFA;\n",
              "      box-shadow: 0px 1px 2px rgba(60, 64, 67, 0.3), 0px 1px 3px 1px rgba(60, 64, 67, 0.15);\n",
              "      fill: #174EA6;\n",
              "    }\n",
              "\n",
              "    .colab-df-buttons div {\n",
              "      margin-bottom: 4px;\n",
              "    }\n",
              "\n",
              "    [theme=dark] .colab-df-convert {\n",
              "      background-color: #3B4455;\n",
              "      fill: #D2E3FC;\n",
              "    }\n",
              "\n",
              "    [theme=dark] .colab-df-convert:hover {\n",
              "      background-color: #434B5C;\n",
              "      box-shadow: 0px 1px 3px 1px rgba(0, 0, 0, 0.15);\n",
              "      filter: drop-shadow(0px 1px 2px rgba(0, 0, 0, 0.3));\n",
              "      fill: #FFFFFF;\n",
              "    }\n",
              "  </style>\n",
              "\n",
              "    <script>\n",
              "      const buttonEl =\n",
              "        document.querySelector('#df-885a3add-7eb9-4072-94d9-88bf326cb7d1 button.colab-df-convert');\n",
              "      buttonEl.style.display =\n",
              "        google.colab.kernel.accessAllowed ? 'block' : 'none';\n",
              "\n",
              "      async function convertToInteractive(key) {\n",
              "        const element = document.querySelector('#df-885a3add-7eb9-4072-94d9-88bf326cb7d1');\n",
              "        const dataTable =\n",
              "          await google.colab.kernel.invokeFunction('convertToInteractive',\n",
              "                                                    [key], {});\n",
              "        if (!dataTable) return;\n",
              "\n",
              "        const docLinkHtml = 'Like what you see? Visit the ' +\n",
              "          '<a target=\"_blank\" href=https://colab.research.google.com/notebooks/data_table.ipynb>data table notebook</a>'\n",
              "          + ' to learn more about interactive tables.';\n",
              "        element.innerHTML = '';\n",
              "        dataTable['output_type'] = 'display_data';\n",
              "        await google.colab.output.renderOutput(dataTable, element);\n",
              "        const docLink = document.createElement('div');\n",
              "        docLink.innerHTML = docLinkHtml;\n",
              "        element.appendChild(docLink);\n",
              "      }\n",
              "    </script>\n",
              "  </div>\n",
              "\n",
              "\n",
              "<div id=\"df-814d2885-ea96-42ee-b039-f8b234417f7d\">\n",
              "  <button class=\"colab-df-quickchart\" onclick=\"quickchart('df-814d2885-ea96-42ee-b039-f8b234417f7d')\"\n",
              "            title=\"Suggest charts\"\n",
              "            style=\"display:none;\">\n",
              "\n",
              "<svg xmlns=\"http://www.w3.org/2000/svg\" height=\"24px\"viewBox=\"0 0 24 24\"\n",
              "     width=\"24px\">\n",
              "    <g>\n",
              "        <path d=\"M19 3H5c-1.1 0-2 .9-2 2v14c0 1.1.9 2 2 2h14c1.1 0 2-.9 2-2V5c0-1.1-.9-2-2-2zM9 17H7v-7h2v7zm4 0h-2V7h2v10zm4 0h-2v-4h2v4z\"/>\n",
              "    </g>\n",
              "</svg>\n",
              "  </button>\n",
              "\n",
              "<style>\n",
              "  .colab-df-quickchart {\n",
              "      --bg-color: #E8F0FE;\n",
              "      --fill-color: #1967D2;\n",
              "      --hover-bg-color: #E2EBFA;\n",
              "      --hover-fill-color: #174EA6;\n",
              "      --disabled-fill-color: #AAA;\n",
              "      --disabled-bg-color: #DDD;\n",
              "  }\n",
              "\n",
              "  [theme=dark] .colab-df-quickchart {\n",
              "      --bg-color: #3B4455;\n",
              "      --fill-color: #D2E3FC;\n",
              "      --hover-bg-color: #434B5C;\n",
              "      --hover-fill-color: #FFFFFF;\n",
              "      --disabled-bg-color: #3B4455;\n",
              "      --disabled-fill-color: #666;\n",
              "  }\n",
              "\n",
              "  .colab-df-quickchart {\n",
              "    background-color: var(--bg-color);\n",
              "    border: none;\n",
              "    border-radius: 50%;\n",
              "    cursor: pointer;\n",
              "    display: none;\n",
              "    fill: var(--fill-color);\n",
              "    height: 32px;\n",
              "    padding: 0;\n",
              "    width: 32px;\n",
              "  }\n",
              "\n",
              "  .colab-df-quickchart:hover {\n",
              "    background-color: var(--hover-bg-color);\n",
              "    box-shadow: 0 1px 2px rgba(60, 64, 67, 0.3), 0 1px 3px 1px rgba(60, 64, 67, 0.15);\n",
              "    fill: var(--button-hover-fill-color);\n",
              "  }\n",
              "\n",
              "  .colab-df-quickchart-complete:disabled,\n",
              "  .colab-df-quickchart-complete:disabled:hover {\n",
              "    background-color: var(--disabled-bg-color);\n",
              "    fill: var(--disabled-fill-color);\n",
              "    box-shadow: none;\n",
              "  }\n",
              "\n",
              "  .colab-df-spinner {\n",
              "    border: 2px solid var(--fill-color);\n",
              "    border-color: transparent;\n",
              "    border-bottom-color: var(--fill-color);\n",
              "    animation:\n",
              "      spin 1s steps(1) infinite;\n",
              "  }\n",
              "\n",
              "  @keyframes spin {\n",
              "    0% {\n",
              "      border-color: transparent;\n",
              "      border-bottom-color: var(--fill-color);\n",
              "      border-left-color: var(--fill-color);\n",
              "    }\n",
              "    20% {\n",
              "      border-color: transparent;\n",
              "      border-left-color: var(--fill-color);\n",
              "      border-top-color: var(--fill-color);\n",
              "    }\n",
              "    30% {\n",
              "      border-color: transparent;\n",
              "      border-left-color: var(--fill-color);\n",
              "      border-top-color: var(--fill-color);\n",
              "      border-right-color: var(--fill-color);\n",
              "    }\n",
              "    40% {\n",
              "      border-color: transparent;\n",
              "      border-right-color: var(--fill-color);\n",
              "      border-top-color: var(--fill-color);\n",
              "    }\n",
              "    60% {\n",
              "      border-color: transparent;\n",
              "      border-right-color: var(--fill-color);\n",
              "    }\n",
              "    80% {\n",
              "      border-color: transparent;\n",
              "      border-right-color: var(--fill-color);\n",
              "      border-bottom-color: var(--fill-color);\n",
              "    }\n",
              "    90% {\n",
              "      border-color: transparent;\n",
              "      border-bottom-color: var(--fill-color);\n",
              "    }\n",
              "  }\n",
              "</style>\n",
              "\n",
              "  <script>\n",
              "    async function quickchart(key) {\n",
              "      const quickchartButtonEl =\n",
              "        document.querySelector('#' + key + ' button');\n",
              "      quickchartButtonEl.disabled = true;  // To prevent multiple clicks.\n",
              "      quickchartButtonEl.classList.add('colab-df-spinner');\n",
              "      try {\n",
              "        const charts = await google.colab.kernel.invokeFunction(\n",
              "            'suggestCharts', [key], {});\n",
              "      } catch (error) {\n",
              "        console.error('Error during call to suggestCharts:', error);\n",
              "      }\n",
              "      quickchartButtonEl.classList.remove('colab-df-spinner');\n",
              "      quickchartButtonEl.classList.add('colab-df-quickchart-complete');\n",
              "    }\n",
              "    (() => {\n",
              "      let quickchartButtonEl =\n",
              "        document.querySelector('#df-814d2885-ea96-42ee-b039-f8b234417f7d button');\n",
              "      quickchartButtonEl.style.display =\n",
              "        google.colab.kernel.accessAllowed ? 'block' : 'none';\n",
              "    })();\n",
              "  </script>\n",
              "</div>\n",
              "\n",
              "    </div>\n",
              "  </div>\n"
            ]
          },
          "metadata": {},
          "execution_count": 22
        }
      ]
    },
    {
      "cell_type": "code",
      "source": [
        "df_guild.shape"
      ],
      "metadata": {
        "colab": {
          "base_uri": "https://localhost:8080/"
        },
        "id": "fH0tnGvRIyCV",
        "outputId": "bbddd128-7953-4a24-9452-ba6d8f402020"
      },
      "execution_count": 23,
      "outputs": [
        {
          "output_type": "execute_result",
          "data": {
            "text/plain": [
              "(409646, 15)"
            ]
          },
          "metadata": {},
          "execution_count": 23
        }
      ]
    },
    {
      "cell_type": "code",
      "source": [
        "trophic_modes=df_guild[['OTU', 'trophicMode']]"
      ],
      "metadata": {
        "id": "mf1avclU5dvN"
      },
      "execution_count": 24,
      "outputs": []
    },
    {
      "cell_type": "code",
      "source": [
        "path='/content/drive/MyDrive/global_fungi_0.5.txt'\n",
        "import pandas as pd\n",
        "df=pd.read_table(path, on_bad_lines=\"skip\", encoding='cp1252', delimiter=\"\\t\")"
      ],
      "metadata": {
        "id": "_YEi7jhEI_Pm"
      },
      "execution_count": 25,
      "outputs": []
    },
    {
      "cell_type": "code",
      "source": [
        "path='/content/drive/MyDrive/global_fungi_0.5.txt'\n",
        "import pandas as pd\n",
        "df=pd.read_table(path, on_bad_lines=\"skip\", encoding='cp1252', delimiter=\"\\t\")\n",
        "df_=df.T\n",
        "df_.columns = df_.iloc[0]\n",
        "df_.drop('OTU', inplace=True)\n",
        "df_.reset_index()\n",
        "df_\n",
        "df_[\"Combination\"] = df_.iloc[:, 1:].dot(df_.add_suffix(\"~\").columns[1:]).str[:-2]\n",
        "df_comb=df_[\"Combination\"].str.split('~').to_frame()\n",
        "df_comb=df_comb.reset_index()\n",
        "df_explode=df_comb.explode('Combination')"
      ],
      "metadata": {
        "id": "rT0DPkC8wI3R"
      },
      "execution_count": 26,
      "outputs": []
    },
    {
      "cell_type": "code",
      "source": [
        "merged=df_explode.merge(trophic_modes, how='left', left_on='Combination', right_on='OTU')\n",
        "merged.fillna('Unassigned', inplace=True)"
      ],
      "metadata": {
        "id": "8u4h3Ijn7-BH"
      },
      "execution_count": 27,
      "outputs": []
    },
    {
      "cell_type": "code",
      "source": [
        "merged=merged.groupby('index')['trophicMode'].value_counts().to_frame()"
      ],
      "metadata": {
        "id": "9vAWVBIJDjFJ"
      },
      "execution_count": 28,
      "outputs": []
    },
    {
      "cell_type": "code",
      "source": [
        "merged.rename(columns={'trophicMode': 'Count'}, inplace=True)"
      ],
      "metadata": {
        "id": "jczHhNdbEFDW"
      },
      "execution_count": 29,
      "outputs": []
    },
    {
      "cell_type": "code",
      "source": [
        "merged.reset_index(inplace=True)"
      ],
      "metadata": {
        "id": "8UVNCELuEE92"
      },
      "execution_count": 30,
      "outputs": []
    },
    {
      "cell_type": "code",
      "source": [
        "merged['Count']=merged['Count'].astype('str')"
      ],
      "metadata": {
        "id": "gRdAGTHQFquH"
      },
      "execution_count": 31,
      "outputs": []
    },
    {
      "cell_type": "code",
      "source": [
        "tro_count=merged.groupby([\"index\"]).agg (\n",
        "   trophicMode=(\"trophicMode\", \",\".join), Count=(\"Count\", \",\".join))\n"
      ],
      "metadata": {
        "id": "_LCnYBoiDaAG"
      },
      "execution_count": 32,
      "outputs": []
    },
    {
      "cell_type": "code",
      "source": [
        "tro_count['trophicMode']=tro_count['trophicMode'].str.split(',')"
      ],
      "metadata": {
        "id": "daWV-L7EKsNT"
      },
      "execution_count": 33,
      "outputs": []
    },
    {
      "cell_type": "code",
      "source": [
        "tro_count['Count']= tro_count['Count'].str.split(',')"
      ],
      "metadata": {
        "id": "t0Zmio3lMdcd"
      },
      "execution_count": 34,
      "outputs": []
    },
    {
      "cell_type": "code",
      "source": [
        "big_dict=[]\n",
        "for a, b in zip(tro_count.trophicMode.values, tro_count.Count.values):\n",
        "  dict_={}\n",
        "  for t, c in zip(a, b):\n",
        "    dict_[t]=c\n",
        "    big_dict.append(dict_)"
      ],
      "metadata": {
        "id": "a7XvNQBqIeyO"
      },
      "execution_count": 35,
      "outputs": []
    },
    {
      "cell_type": "code",
      "source": [
        "final_=pd.DataFrame(big_dict).drop_duplicates()\n",
        "final_.index= tro_count.index"
      ],
      "metadata": {
        "id": "dJrNJxJQIeuq"
      },
      "execution_count": 36,
      "outputs": []
    },
    {
      "cell_type": "code",
      "source": [
        "final_.fillna(0, inplace=True)\n",
        "final_=final_.astype('int64')"
      ],
      "metadata": {
        "id": "osCdegcJ0uI9"
      },
      "execution_count": 37,
      "outputs": []
    },
    {
      "cell_type": "code",
      "source": [
        "res = final_.div(final_.sum(axis=1), axis=0)"
      ],
      "metadata": {
        "id": "k3JIB1_iQbqF"
      },
      "execution_count": 39,
      "outputs": []
    },
    {
      "cell_type": "code",
      "source": [
        "res=res.round(2)"
      ],
      "metadata": {
        "id": "Xv36bCwDSLca"
      },
      "execution_count": 40,
      "outputs": []
    },
    {
      "cell_type": "code",
      "source": [
        "df_=df_cleaned.merge(res, left_on='plot', right_index=True)"
      ],
      "metadata": {
        "id": "MwGW30ogTMK7"
      },
      "execution_count": 41,
      "outputs": []
    },
    {
      "cell_type": "code",
      "source": [
        "X=df_.loc[:, 'Last_fire_y_ago': 'Biome specific']\n",
        "X=X.drop(['abund','richness'], axis=1)"
      ],
      "metadata": {
        "id": "UQdJr25jSr0H"
      },
      "execution_count": null,
      "outputs": []
    },
    {
      "cell_type": "code",
      "source": [
        "Y=df_.loc[:, 'Unassigned': ]"
      ],
      "metadata": {
        "id": "IJiHqmIdUFYw"
      },
      "execution_count": null,
      "outputs": []
    },
    {
      "cell_type": "code",
      "source": [
        "from sklearn.preprocessing import StandardScaler\n",
        "from sklearn.model_selection import train_test_split\n",
        "from sklearn.ensemble import RandomForestRegressor\n",
        "from sklearn.metrics import mean_absolute_error\n",
        "for i in Y.columns:\n",
        "  y=df_[i]\n",
        "  X_train, X_test, y_train, y_test = train_test_split(X, y, test_size=0.07, random_state=42)\n",
        "  scaler=StandardScaler()\n",
        "  X_train=scaler.fit_transform(X_train)\n",
        "  X_test=scaler.transform(X_test)\n",
        "  rf=RandomForestRegressor()\n",
        "  rf.fit(X_train, y_train)\n",
        "  y_pred=rf.predict(X_test)\n",
        "  sc=mean_absolute_error(y_test, y_pred )\n",
        "  print(i, sc, y.mean())"
      ],
      "metadata": {
        "colab": {
          "base_uri": "https://localhost:8080/"
        },
        "id": "sF2F8ODfVdih",
        "outputId": "9ffd36df-3191-4f5a-d151-256328db4357"
      },
      "execution_count": null,
      "outputs": [
        {
          "output_type": "stream",
          "name": "stdout",
          "text": [
            "Unassigned 0.0769353925925926 0.18389375000000002\n",
            "Saprotroph-Symbiotroph 0.07090992733686066 0.12119687500000001\n",
            "Saprotroph 0.10760153439153439 0.225775\n",
            "Pathotroph-Saprotroph-Symbiotroph 0.05172916507936508 0.08536250000000001\n",
            "Symbiotroph 0.12774937248677248 0.292246875\n",
            "Pathotroph-Symbiotroph 0.01140208888888889 0.012178125\n",
            "Pathotroph 0.029419108994708995 0.0434875\n",
            "Pathotroph-Saprotroph 0.029066319576719565 0.035296875000000005\n"
          ]
        }
      ]
    },
    {
      "cell_type": "code",
      "source": [
        "# Random forest\n",
        "from sklearn.preprocessing import StandardScaler\n",
        "from sklearn.model_selection import train_test_split\n",
        "from sklearn.ensemble import RandomForestRegressor\n",
        "from sklearn.metrics import mean_absolute_error\n",
        "for i in Y.columns:\n",
        "  y=df_[i]\n",
        "  X_train, X_test, y_train, y_test = train_test_split(X, y, test_size=0.07, random_state=42)\n",
        "  scaler=StandardScaler()\n",
        "  X_train=scaler.fit_transform(X_train)\n",
        "  X_test=scaler.transform(X_test)\n",
        "  gb= GradientBoostingRegressor()\n",
        "  gb.fit(X_train, y_train)\n",
        "  y_pred=gb.predict(X_test)\n",
        "  sc=mean_absolute_error(y_test, y_pred )\n",
        "  print(i, sc, y.mean())"
      ],
      "metadata": {
        "colab": {
          "base_uri": "https://localhost:8080/"
        },
        "id": "lZMgAV3ymDBg",
        "outputId": "9e567618-b13e-4873-a249-e7263097a59c"
      },
      "execution_count": null,
      "outputs": [
        {
          "output_type": "stream",
          "name": "stdout",
          "text": [
            "Unassigned 0.07858510246206597 0.18389375000000002\n",
            "Saprotroph-Symbiotroph 0.07187422254798985 0.12119687500000001\n",
            "Saprotroph 0.10853260177474393 0.225775\n",
            "Pathotroph-Saprotroph-Symbiotroph 0.05213636608326523 0.08536250000000001\n",
            "Symbiotroph 0.13716629537503955 0.292246875\n",
            "Pathotroph-Symbiotroph 0.01129495181512452 0.012178125\n",
            "Pathotroph 0.02625540369647645 0.0434875\n",
            "Pathotroph-Saprotroph 0.027902222863695113 0.035296875000000005\n"
          ]
        }
      ]
    },
    {
      "cell_type": "code",
      "source": [
        "# Xgboost\n",
        "import xgboost as xg\n",
        "xgb_r = xg.XGBRegressor()\n",
        "from sklearn.preprocessing import StandardScaler\n",
        "from sklearn.model_selection import train_test_split\n",
        "from sklearn.ensemble import RandomForestRegressor\n",
        "from sklearn.metrics import mean_absolute_error\n",
        "for i in Y.columns:\n",
        "  y=df_[i]\n",
        "  X_train, X_test, y_train, y_test = train_test_split(X, y, test_size=0.07, random_state=42)\n",
        "  scaler=StandardScaler()\n",
        "  X_train=scaler.fit_transform(X_train)\n",
        "  X_test=scaler.transform(X_test)\n",
        "  xgb_r.fit(X_train, y_train)\n",
        "  y_pred=xgb_r.predict(X_test)\n",
        "  sc=mean_absolute_error(y_test, y_pred )\n",
        "  print(i, sc, y.mean())"
      ],
      "metadata": {
        "colab": {
          "base_uri": "https://localhost:8080/"
        },
        "id": "CFX4GKzpstLo",
        "outputId": "877128ed-d22d-4d6f-9a58-0d1c526f5679"
      },
      "execution_count": null,
      "outputs": [
        {
          "output_type": "stream",
          "name": "stdout",
          "text": [
            "Unassigned 0.08667284177243709 0.18389375000000002\n",
            "Saprotroph-Symbiotroph 0.07520299370131558 0.12119687500000001\n",
            "Saprotroph 0.11644413866003356 0.225775\n",
            "Pathotroph-Saprotroph-Symbiotroph 0.05283373546800576 0.08536250000000001\n",
            "Symbiotroph 0.14161558704359664 0.292246875\n",
            "Pathotroph-Symbiotroph 0.01235621501615646 0.012178125\n",
            "Pathotroph 0.029761233006014177 0.0434875\n",
            "Pathotroph-Saprotroph 0.03343085992707767 0.035296875000000005\n"
          ]
        }
      ]
    },
    {
      "cell_type": "code",
      "source": [
        "# Catboost\n",
        "from catboost import CatBoostRegressor\n",
        "ct= CatBoostRegressor(verbose=0)\n",
        "\n",
        "from sklearn.preprocessing import StandardScaler\n",
        "from sklearn.model_selection import train_test_split\n",
        "from sklearn.ensemble import RandomForestRegressor\n",
        "from sklearn.metrics import mean_absolute_error\n",
        "for i in Y.columns:\n",
        "  y=df_[i]\n",
        "  X_train, X_test, y_train, y_test = train_test_split(X, y, test_size=0.07, random_state=42)\n",
        "  ct.fit(X_train, y_train)\n",
        "  y_pred=ct.predict(X_test)\n",
        "  sc=mean_absolute_error(y_test, y_pred )\n",
        "  print(i, sc, y.mean())"
      ],
      "metadata": {
        "colab": {
          "base_uri": "https://localhost:8080/"
        },
        "id": "tEIQ9xc8tDDV",
        "outputId": "ef3ef847-5b30-4a3e-9019-13541c9d6080"
      },
      "execution_count": null,
      "outputs": [
        {
          "output_type": "stream",
          "name": "stdout",
          "text": [
            "Unassigned 0.07675857959832552 0.18389375000000002\n",
            "Saprotroph-Symbiotroph 0.07127730758257159 0.12119687500000001\n",
            "Saprotroph 0.10659078986934978 0.225775\n",
            "Pathotroph-Saprotroph-Symbiotroph 0.0499969259324971 0.08536250000000001\n",
            "Symbiotroph 0.13674997262633415 0.292246875\n",
            "Pathotroph-Symbiotroph 0.011196070654145466 0.012178125\n",
            "Pathotroph 0.02647179593485019 0.0434875\n",
            "Pathotroph-Saprotroph 0.028330752081523806 0.035296875000000005\n"
          ]
        }
      ]
    },
    {
      "cell_type": "code",
      "source": [
        "# Save model\n",
        "for i in Y.columns:\n",
        "  y=df_[i]\n",
        "  ct.fit(X, y)\n",
        "  ct.save_model(i)\n"
      ],
      "metadata": {
        "id": "1RdIfLtpYs78"
      },
      "execution_count": null,
      "outputs": []
    }
  ]
}